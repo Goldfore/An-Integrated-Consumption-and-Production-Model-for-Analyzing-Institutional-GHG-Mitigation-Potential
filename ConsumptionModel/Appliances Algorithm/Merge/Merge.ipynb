{
 "cells": [
  {
   "cell_type": "markdown",
   "id": "96046d74",
   "metadata": {},
   "source": [
    "## Setup"
   ]
  },
  {
   "cell_type": "code",
   "execution_count": 1,
   "id": "a79608e0",
   "metadata": {},
   "outputs": [
    {
     "name": "stderr",
     "output_type": "stream",
     "text": [
      "C:\\Users\\raziel lab\\AppData\\Local\\Temp\\ipykernel_41720\\1403808273.py:1: DeprecationWarning: Importing display from IPython.core.display is deprecated since IPython 7.14, please import from IPython display\n",
      "  from IPython.core.display import display, HTML\n"
     ]
    },
    {
     "data": {
      "text/html": [
       "<style>.container { width:95% !important; }</style>"
      ],
      "text/plain": [
       "<IPython.core.display.HTML object>"
      ]
     },
     "metadata": {},
     "output_type": "display_data"
    },
    {
     "data": {
      "text/html": [
       "<style>.output_result { max-width:90% !important; }</style>"
      ],
      "text/plain": [
       "<IPython.core.display.HTML object>"
      ]
     },
     "metadata": {},
     "output_type": "display_data"
    }
   ],
   "source": [
    "from IPython.core.display import display, HTML\n",
    "display(HTML(\"<style>.container { width:95% !important; }</style>\"))\n",
    "display(HTML(\"<style>.output_result { max-width:90% !important; }</style>\"))\n",
    "\n",
    "import warnings\n",
    "warnings.filterwarnings(\"ignore\")\n",
    "\n",
    "import numpy as np\n",
    "np.set_printoptions(precision=3)\n",
    "np.set_printoptions(linewidth=170)\n",
    "np.set_printoptions(suppress=True)\n",
    "np.random.seed(8)\n",
    "\n",
    "from time import time, sleep\n",
    "sleep(0.2)"
   ]
  },
  {
   "cell_type": "markdown",
   "id": "2340f272",
   "metadata": {},
   "source": [
    "## Imports & Parameters"
   ]
  },
  {
   "cell_type": "code",
   "execution_count": 2,
   "id": "b99064aa",
   "metadata": {},
   "outputs": [],
   "source": [
    "import pandas as pd\n",
    "\n",
    "pd.set_option('display.max_columns',None)\n",
    "pd.set_option('display.max_rows', None)\n",
    "random_state = 8"
   ]
  },
  {
   "cell_type": "markdown",
   "id": "8d87e6ab",
   "metadata": {},
   "source": [
    "## Loading the data"
   ]
  },
  {
   "cell_type": "code",
   "execution_count": 3,
   "id": "7251a851",
   "metadata": {},
   "outputs": [
    {
     "data": {
      "text/html": [
       "<div>\n",
       "<style scoped>\n",
       "    .dataframe tbody tr th:only-of-type {\n",
       "        vertical-align: middle;\n",
       "    }\n",
       "\n",
       "    .dataframe tbody tr th {\n",
       "        vertical-align: top;\n",
       "    }\n",
       "\n",
       "    .dataframe thead th {\n",
       "        text-align: right;\n",
       "    }\n",
       "</style>\n",
       "<table border=\"1\" class=\"dataframe\">\n",
       "  <thead>\n",
       "    <tr style=\"text-align: right;\">\n",
       "      <th></th>\n",
       "      <th>building_number</th>\n",
       "      <th>c_desktop</th>\n",
       "      <th>c_laptop</th>\n",
       "      <th>c_server</th>\n",
       "      <th>r_domestic</th>\n",
       "      <th>r_industrial</th>\n",
       "      <th>r_other</th>\n",
       "      <th>f_industrial</th>\n",
       "      <th>f_domestic</th>\n",
       "    </tr>\n",
       "  </thead>\n",
       "  <tbody>\n",
       "    <tr>\n",
       "      <th>0</th>\n",
       "      <td>15-16</td>\n",
       "      <td>0</td>\n",
       "      <td>0</td>\n",
       "      <td>0</td>\n",
       "      <td>0</td>\n",
       "      <td>0</td>\n",
       "      <td>0</td>\n",
       "      <td>0</td>\n",
       "      <td>0</td>\n",
       "    </tr>\n",
       "    <tr>\n",
       "      <th>1</th>\n",
       "      <td>25</td>\n",
       "      <td>0</td>\n",
       "      <td>0</td>\n",
       "      <td>0</td>\n",
       "      <td>0</td>\n",
       "      <td>0</td>\n",
       "      <td>0</td>\n",
       "      <td>0</td>\n",
       "      <td>0</td>\n",
       "    </tr>\n",
       "    <tr>\n",
       "      <th>2</th>\n",
       "      <td>28</td>\n",
       "      <td>0</td>\n",
       "      <td>0</td>\n",
       "      <td>0</td>\n",
       "      <td>0</td>\n",
       "      <td>0</td>\n",
       "      <td>0</td>\n",
       "      <td>0</td>\n",
       "      <td>0</td>\n",
       "    </tr>\n",
       "    <tr>\n",
       "      <th>3</th>\n",
       "      <td>Entrance Gate</td>\n",
       "      <td>0</td>\n",
       "      <td>0</td>\n",
       "      <td>0</td>\n",
       "      <td>0</td>\n",
       "      <td>0</td>\n",
       "      <td>0</td>\n",
       "      <td>0</td>\n",
       "      <td>0</td>\n",
       "    </tr>\n",
       "    <tr>\n",
       "      <th>4</th>\n",
       "      <td>92</td>\n",
       "      <td>0</td>\n",
       "      <td>0</td>\n",
       "      <td>0</td>\n",
       "      <td>0</td>\n",
       "      <td>0</td>\n",
       "      <td>0</td>\n",
       "      <td>0</td>\n",
       "      <td>0</td>\n",
       "    </tr>\n",
       "  </tbody>\n",
       "</table>\n",
       "</div>"
      ],
      "text/plain": [
       "  building_number  c_desktop  c_laptop  c_server  r_domestic  r_industrial  \\\n",
       "0           15-16          0         0         0           0             0   \n",
       "1              25          0         0         0           0             0   \n",
       "2              28          0         0         0           0             0   \n",
       "3   Entrance Gate          0         0         0           0             0   \n",
       "4              92          0         0         0           0             0   \n",
       "\n",
       "   r_other  f_industrial  f_domestic  \n",
       "0        0             0           0  \n",
       "1        0             0           0  \n",
       "2        0             0           0  \n",
       "3        0             0           0  \n",
       "4        0             0           0  "
      ]
     },
     "execution_count": 3,
     "metadata": {},
     "output_type": "execute_result"
    }
   ],
   "source": [
    "empty_buildings_df = pd.read_csv('C:/Users/raziel lab/PycharmProjects/ConsumptionModels/Appliances Algorithm/Merge/empty_buildings.csv', encoding=\"utf-8\")\n",
    "empty_buildings_df.head()"
   ]
  },
  {
   "cell_type": "markdown",
   "id": "8d8e195e",
   "metadata": {},
   "source": [
    "## Main"
   ]
  },
  {
   "cell_type": "code",
   "execution_count": 4,
   "id": "92af12de",
   "metadata": {},
   "outputs": [],
   "source": [
    "appliances_df = pd.DataFrame()"
   ]
  },
  {
   "cell_type": "code",
   "execution_count": 5,
   "id": "bbb52d87",
   "metadata": {},
   "outputs": [],
   "source": [
    "months=12\n",
    "for i in range(1, months+1):\n",
    "    \n",
    "    str_year = '2019-'\n",
    "    str_month = str(i)\n",
    "    \n",
    "    str_computers = 'C:/Users/raziel lab/PycharmProjects/ConsumptionModels/Appliances Algorithm/Computers/total_computers_'+str_year+str_month+'.csv'\n",
    "    str_refrigerators = 'C:/Users/raziel lab/PycharmProjects/ConsumptionModels/Appliances Algorithm/Refrigerators/total_refrigerators_'+str_year+str_month+'.csv'\n",
    "    str_freezers = 'C:/Users/raziel lab/PycharmProjects/ConsumptionModels/Appliances Algorithm/Freezers/total_freezers_'+str_year+str_month+'.csv'\n",
    "    \n",
    "    computers_df = pd.read_csv(str_computers, encoding=\"utf-8\")\n",
    "    refrigerators_df = pd.read_csv(str_refrigerators, encoding=\"utf-8\")\n",
    "    freezers_df = pd.read_csv(str_freezers, encoding=\"utf-8\")\n",
    "    \n",
    "    freezers_df['building_number'] = freezers_df['building_number'].astype(str)\n",
    "    \n",
    "\n",
    "    appliances_in_month_df = pd.merge(computers_df, refrigerators_df, how='outer', on='building_number')\n",
    "    appliances_in_month_df = pd.merge(appliances_in_month_df, freezers_df, how='outer', on='building_number')\n",
    "    \n",
    "    empty_buildings_df.iloc[0,1:] = appliances_in_month_df.iloc[1,1:] + appliances_in_month_df.iloc[2,1:]\n",
    "    appliances_in_month_df.drop([1,2], axis=0, inplace=True)\n",
    "    \n",
    "    appliances_in_month_df = pd.concat([appliances_in_month_df, empty_buildings_df])\n",
    "    appliances_in_month_df['month_number'] = i\n",
    "    \n",
    "    appliances_in_month_df = appliances_in_month_df.fillna(0)\n",
    "    appliances_in_month_df.sort_values('building_number', axis=0, ascending=True, inplace=True, ignore_index=True)\n",
    "   \n",
    "    appliances_df = pd.concat([appliances_df, appliances_in_month_df])"
   ]
  },
  {
   "cell_type": "code",
   "execution_count": 6,
   "id": "20a2e617",
   "metadata": {},
   "outputs": [],
   "source": [
    "appliances_df.to_csv('appliances_df.csv', index=False, encoding=\"utf-8\")"
   ]
  }
 ],
 "metadata": {
  "kernelspec": {
   "display_name": "Python 3 (ipykernel)",
   "language": "python",
   "name": "python3"
  },
  "language_info": {
   "codemirror_mode": {
    "name": "ipython",
    "version": 3
   },
   "file_extension": ".py",
   "mimetype": "text/x-python",
   "name": "python",
   "nbconvert_exporter": "python",
   "pygments_lexer": "ipython3",
   "version": "3.8.8"
  }
 },
 "nbformat": 4,
 "nbformat_minor": 5
}
