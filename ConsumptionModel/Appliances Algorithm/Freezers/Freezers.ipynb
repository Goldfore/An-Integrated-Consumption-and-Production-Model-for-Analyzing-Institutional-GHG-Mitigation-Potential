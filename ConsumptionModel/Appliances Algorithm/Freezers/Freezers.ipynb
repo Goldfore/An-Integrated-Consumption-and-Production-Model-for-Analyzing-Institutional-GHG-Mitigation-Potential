{
 "cells": [
  {
   "cell_type": "markdown",
   "id": "fcf9f2cb",
   "metadata": {},
   "source": [
    "## Setup"
   ]
  },
  {
   "cell_type": "code",
   "execution_count": 1,
   "id": "d6daa86f",
   "metadata": {},
   "outputs": [
    {
     "name": "stderr",
     "output_type": "stream",
     "text": [
      "C:\\Users\\raziel lab\\AppData\\Local\\Temp\\ipykernel_26368\\1403808273.py:1: DeprecationWarning: Importing display from IPython.core.display is deprecated since IPython 7.14, please import from IPython display\n",
      "  from IPython.core.display import display, HTML\n"
     ]
    },
    {
     "data": {
      "text/html": [
       "<style>.container { width:95% !important; }</style>"
      ],
      "text/plain": [
       "<IPython.core.display.HTML object>"
      ]
     },
     "metadata": {},
     "output_type": "display_data"
    },
    {
     "data": {
      "text/html": [
       "<style>.output_result { max-width:90% !important; }</style>"
      ],
      "text/plain": [
       "<IPython.core.display.HTML object>"
      ]
     },
     "metadata": {},
     "output_type": "display_data"
    }
   ],
   "source": [
    "from IPython.core.display import display, HTML\n",
    "display(HTML(\"<style>.container { width:95% !important; }</style>\"))\n",
    "display(HTML(\"<style>.output_result { max-width:90% !important; }</style>\"))\n",
    "\n",
    "import warnings\n",
    "warnings.filterwarnings(\"ignore\")\n",
    "\n",
    "import numpy as np\n",
    "np.set_printoptions(precision=3)\n",
    "np.set_printoptions(linewidth=170)\n",
    "np.set_printoptions(suppress=True)\n",
    "np.random.seed(8)\n",
    "\n",
    "from time import time, sleep\n",
    "sleep(0.2)"
   ]
  },
  {
   "cell_type": "markdown",
   "id": "179f7372",
   "metadata": {},
   "source": [
    "## Imports & Parameters"
   ]
  },
  {
   "cell_type": "code",
   "execution_count": 2,
   "id": "fefa320a",
   "metadata": {},
   "outputs": [],
   "source": [
    "import pandas as pd\n",
    "\n",
    "pd.set_option('display.max_columns',None)\n",
    "pd.set_option('display.max_rows', None)\n",
    "random_state = 8"
   ]
  },
  {
   "cell_type": "markdown",
   "id": "4998260b",
   "metadata": {},
   "source": [
    "## Loading the data"
   ]
  },
  {
   "cell_type": "code",
   "execution_count": 3,
   "id": "52031e30",
   "metadata": {},
   "outputs": [
    {
     "data": {
      "text/plain": [
       "(95, 29)"
      ]
     },
     "execution_count": 3,
     "metadata": {},
     "output_type": "execute_result"
    }
   ],
   "source": [
    "freezers = pd.read_csv('C:/Users/raziel lab/PycharmProjects/ConsumptionModels/Appliances Algorithm/Freezers/freezers1.csv', encoding='utf8')\n",
    "freezers.shape"
   ]
  },
  {
   "cell_type": "markdown",
   "id": "68884df9",
   "metadata": {},
   "source": [
    "## Main"
   ]
  },
  {
   "cell_type": "code",
   "execution_count": 4,
   "id": "a82808dc",
   "metadata": {},
   "outputs": [
    {
     "data": {
      "text/plain": [
       "95"
      ]
     },
     "execution_count": 4,
     "metadata": {},
     "output_type": "execute_result"
    }
   ],
   "source": [
    "len(freezers['אינוונטר'].unique())"
   ]
  },
  {
   "cell_type": "code",
   "execution_count": 5,
   "id": "ff6a271c",
   "metadata": {},
   "outputs": [
    {
     "data": {
      "text/plain": [
       "array(['פעיל', 'מושאל'], dtype=object)"
      ]
     },
     "execution_count": 5,
     "metadata": {},
     "output_type": "execute_result"
    }
   ],
   "source": [
    "freezers['שם סטטוס'].unique()"
   ]
  },
  {
   "cell_type": "code",
   "execution_count": 6,
   "id": "ac07f164",
   "metadata": {},
   "outputs": [
    {
     "data": {
      "text/plain": [
       "array(['פעיל'], dtype=object)"
      ]
     },
     "execution_count": 6,
     "metadata": {},
     "output_type": "execute_result"
    }
   ],
   "source": [
    "freezers = freezers[freezers['שם סטטוס'] == 'פעיל']\n",
    "freezers['שם סטטוס'].unique()"
   ]
  },
  {
   "cell_type": "code",
   "execution_count": 7,
   "id": "bc1d6900",
   "metadata": {},
   "outputs": [
    {
     "name": "stdout",
     "output_type": "stream",
     "text": [
      "Rows Number: 94\n"
     ]
    }
   ],
   "source": [
    "print(\"Rows Number:\",freezers.shape[0])"
   ]
  },
  {
   "cell_type": "code",
   "execution_count": 8,
   "id": "238549ac",
   "metadata": {},
   "outputs": [
    {
     "data": {
      "text/plain": [
       "array(['קמפוס\\xa0מרקוס', 'קמפוס\\xa0שדה\\xa0בוקר', 'פארק\\xa0הייטק', 'מדעי\\xa0הבריאות\\xa0סורוקה', 'קרית\\xa0ברגמן'], dtype=object)"
      ]
     },
     "execution_count": 8,
     "metadata": {},
     "output_type": "execute_result"
    }
   ],
   "source": [
    "freezers['שם קמפוס'].unique()"
   ]
  },
  {
   "cell_type": "code",
   "execution_count": 9,
   "id": "ac20dfca",
   "metadata": {},
   "outputs": [
    {
     "data": {
      "text/plain": [
       "array(['קמפוס\\xa0מרקוס'], dtype=object)"
      ]
     },
     "execution_count": 9,
     "metadata": {},
     "output_type": "execute_result"
    }
   ],
   "source": [
    "freezers = freezers[(freezers['שם קמפוס'] == 'קמפוס מרקוס') | (pd.isnull(freezers['שם קמפוס']))]\n",
    "freezers['שם קמפוס'].unique()"
   ]
  },
  {
   "cell_type": "code",
   "execution_count": 10,
   "id": "aaf968e9",
   "metadata": {},
   "outputs": [
    {
     "name": "stdout",
     "output_type": "stream",
     "text": [
      "Rows Number: 64\n"
     ]
    }
   ],
   "source": [
    "print(\"Rows Number:\", freezers.shape[0])"
   ]
  },
  {
   "cell_type": "code",
   "execution_count": 11,
   "id": "fee32137",
   "metadata": {},
   "outputs": [
    {
     "data": {
      "text/html": [
       "<div>\n",
       "<style scoped>\n",
       "    .dataframe tbody tr th:only-of-type {\n",
       "        vertical-align: middle;\n",
       "    }\n",
       "\n",
       "    .dataframe tbody tr th {\n",
       "        vertical-align: top;\n",
       "    }\n",
       "\n",
       "    .dataframe thead th {\n",
       "        text-align: right;\n",
       "    }\n",
       "</style>\n",
       "<table border=\"1\" class=\"dataframe\">\n",
       "  <thead>\n",
       "    <tr style=\"text-align: right;\">\n",
       "      <th></th>\n",
       "      <th>תאריך קבלה</th>\n",
       "      <th>מחיר כניסה בש\"ח</th>\n",
       "      <th>תיאור האינוונטר</th>\n",
       "      <th>הערות לשורה מההזמנה</th>\n",
       "      <th>מחלקה</th>\n",
       "      <th>שם מחלקה</th>\n",
       "      <th>בניין</th>\n",
       "      <th>שם בניין</th>\n",
       "    </tr>\n",
       "  </thead>\n",
       "  <tbody>\n",
       "    <tr>\n",
       "      <th>0</th>\n",
       "      <td>04/08/2019</td>\n",
       "      <td>38,393.43</td>\n",
       "      <td>מקפיא עמוק</td>\n",
       "      <td>ExF40086 Revco ExF Ultra-Low Temperature Uprig...</td>\n",
       "      <td>5104</td>\n",
       "      <td>מדעי החיים</td>\n",
       "      <td>40</td>\n",
       "      <td>בנין המחלקה למדעי החיים ע\"ש טומן - 40</td>\n",
       "    </tr>\n",
       "    <tr>\n",
       "      <th>1</th>\n",
       "      <td>29/04/2015</td>\n",
       "      <td>1,734.60</td>\n",
       "      <td>מקפיא 4 מגירות דגם GP 1366</td>\n",
       "      <td>מקפיא ליבהר דגם 4  1376 מגרות</td>\n",
       "      <td>5104</td>\n",
       "      <td>מדעי החיים</td>\n",
       "      <td>40</td>\n",
       "      <td>בנין המחלקה למדעי החיים ע\"ש טומן - 40</td>\n",
       "    </tr>\n",
       "    <tr>\n",
       "      <th>2</th>\n",
       "      <td>29/04/2015</td>\n",
       "      <td>1,734.60</td>\n",
       "      <td>מקפיא 4 מגירות דגם GP 1366</td>\n",
       "      <td>מקפיא ליבהר דגם 4  1376 מגרות</td>\n",
       "      <td>5104</td>\n",
       "      <td>מדעי החיים</td>\n",
       "      <td>40</td>\n",
       "      <td>בנין המחלקה למדעי החיים ע\"ש טומן - 40</td>\n",
       "    </tr>\n",
       "    <tr>\n",
       "      <th>3</th>\n",
       "      <td>29/04/2015</td>\n",
       "      <td>1,734.60</td>\n",
       "      <td>מקפיא 4 מגירות דגם GP 1366</td>\n",
       "      <td>מקפיא ליבהר 1376. מקפיא ליהבר דגם 1376</td>\n",
       "      <td>5104</td>\n",
       "      <td>מדעי החיים</td>\n",
       "      <td>40</td>\n",
       "      <td>בנין המחלקה למדעי החיים ע\"ש טומן - 40</td>\n",
       "    </tr>\n",
       "    <tr>\n",
       "      <th>4</th>\n",
       "      <td>29/04/2015</td>\n",
       "      <td>1,699.93</td>\n",
       "      <td>מקפיא דגם, Liebherr GP1376</td>\n",
       "      <td>מקפיא ליבר 1376</td>\n",
       "      <td>5104</td>\n",
       "      <td>מדעי החיים</td>\n",
       "      <td>40</td>\n",
       "      <td>בנין המחלקה למדעי החיים ע\"ש טומן - 40</td>\n",
       "    </tr>\n",
       "  </tbody>\n",
       "</table>\n",
       "</div>"
      ],
      "text/plain": [
       "   תאריך קבלה מחיר כניסה בש\"ח             תיאור האינוונטר  \\\n",
       "0  04/08/2019       38,393.43                  מקפיא עמוק   \n",
       "1  29/04/2015        1,734.60  מקפיא 4 מגירות דגם GP 1366   \n",
       "2  29/04/2015        1,734.60  מקפיא 4 מגירות דגם GP 1366   \n",
       "3  29/04/2015        1,734.60  מקפיא 4 מגירות דגם GP 1366   \n",
       "4  29/04/2015        1,699.93  מקפיא דגם, Liebherr GP1376   \n",
       "\n",
       "                                 הערות לשורה מההזמנה  מחלקה    שם מחלקה בניין  \\\n",
       "0  ExF40086 Revco ExF Ultra-Low Temperature Uprig...   5104  מדעי החיים    40   \n",
       "1                      מקפיא ליבהר דגם 4  1376 מגרות   5104  מדעי החיים    40   \n",
       "2                      מקפיא ליבהר דגם 4  1376 מגרות   5104  מדעי החיים    40   \n",
       "3             מקפיא ליבהר 1376. מקפיא ליהבר דגם 1376   5104  מדעי החיים    40   \n",
       "4                                    מקפיא ליבר 1376   5104  מדעי החיים    40   \n",
       "\n",
       "                                שם בניין  \n",
       "0  בנין המחלקה למדעי החיים ע\"ש טומן - 40  \n",
       "1  בנין המחלקה למדעי החיים ע\"ש טומן - 40  \n",
       "2  בנין המחלקה למדעי החיים ע\"ש טומן - 40  \n",
       "3  בנין המחלקה למדעי החיים ע\"ש טומן - 40  \n",
       "4  בנין המחלקה למדעי החיים ע\"ש טומן - 40  "
      ]
     },
     "execution_count": 11,
     "metadata": {},
     "output_type": "execute_result"
    }
   ],
   "source": [
    "freezers.drop(['אינוונטר','סטטוס','שם סטטוס','תאריך עדכון אחרון','פריט','מחיר כניסה בדולר','הזמנה','סריאלי','תז בעל מצאי',' שם תז בעל מצאי','שם בעל מצאי','מחיר ידני','קוד סימון','תז שואל','פטור מותנה','מנוהל תמיד','קמפוס','שם קמפוס','קומה','חדר','הערות לפריט אומנות'], axis=1, inplace=True)\n",
    "freezers.reset_index(drop=True, inplace=True)\n",
    "freezers.head()"
   ]
  },
  {
   "cell_type": "code",
   "execution_count": 12,
   "id": "eaf91cb4",
   "metadata": {},
   "outputs": [
    {
     "data": {
      "text/html": [
       "<div>\n",
       "<style scoped>\n",
       "    .dataframe tbody tr th:only-of-type {\n",
       "        vertical-align: middle;\n",
       "    }\n",
       "\n",
       "    .dataframe tbody tr th {\n",
       "        vertical-align: top;\n",
       "    }\n",
       "\n",
       "    .dataframe thead th {\n",
       "        text-align: right;\n",
       "    }\n",
       "</style>\n",
       "<table border=\"1\" class=\"dataframe\">\n",
       "  <thead>\n",
       "    <tr style=\"text-align: right;\">\n",
       "      <th></th>\n",
       "      <th>operating_date</th>\n",
       "      <th>price</th>\n",
       "      <th>description</th>\n",
       "      <th>comment</th>\n",
       "      <th>department_number</th>\n",
       "      <th>department_name</th>\n",
       "      <th>building_number</th>\n",
       "      <th>building_name</th>\n",
       "    </tr>\n",
       "  </thead>\n",
       "  <tbody>\n",
       "    <tr>\n",
       "      <th>0</th>\n",
       "      <td>04/08/2019</td>\n",
       "      <td>38,393.43</td>\n",
       "      <td>מקפיא עמוק</td>\n",
       "      <td>ExF40086 Revco ExF Ultra-Low Temperature Uprig...</td>\n",
       "      <td>5104</td>\n",
       "      <td>מדעי החיים</td>\n",
       "      <td>40</td>\n",
       "      <td>בנין המחלקה למדעי החיים ע\"ש טומן - 40</td>\n",
       "    </tr>\n",
       "    <tr>\n",
       "      <th>1</th>\n",
       "      <td>29/04/2015</td>\n",
       "      <td>1,734.60</td>\n",
       "      <td>מקפיא 4 מגירות דגם GP 1366</td>\n",
       "      <td>מקפיא ליבהר דגם 4  1376 מגרות</td>\n",
       "      <td>5104</td>\n",
       "      <td>מדעי החיים</td>\n",
       "      <td>40</td>\n",
       "      <td>בנין המחלקה למדעי החיים ע\"ש טומן - 40</td>\n",
       "    </tr>\n",
       "    <tr>\n",
       "      <th>2</th>\n",
       "      <td>29/04/2015</td>\n",
       "      <td>1,734.60</td>\n",
       "      <td>מקפיא 4 מגירות דגם GP 1366</td>\n",
       "      <td>מקפיא ליבהר דגם 4  1376 מגרות</td>\n",
       "      <td>5104</td>\n",
       "      <td>מדעי החיים</td>\n",
       "      <td>40</td>\n",
       "      <td>בנין המחלקה למדעי החיים ע\"ש טומן - 40</td>\n",
       "    </tr>\n",
       "    <tr>\n",
       "      <th>3</th>\n",
       "      <td>29/04/2015</td>\n",
       "      <td>1,734.60</td>\n",
       "      <td>מקפיא 4 מגירות דגם GP 1366</td>\n",
       "      <td>מקפיא ליבהר 1376. מקפיא ליהבר דגם 1376</td>\n",
       "      <td>5104</td>\n",
       "      <td>מדעי החיים</td>\n",
       "      <td>40</td>\n",
       "      <td>בנין המחלקה למדעי החיים ע\"ש טומן - 40</td>\n",
       "    </tr>\n",
       "    <tr>\n",
       "      <th>4</th>\n",
       "      <td>29/04/2015</td>\n",
       "      <td>1,699.93</td>\n",
       "      <td>מקפיא דגם, Liebherr GP1376</td>\n",
       "      <td>מקפיא ליבר 1376</td>\n",
       "      <td>5104</td>\n",
       "      <td>מדעי החיים</td>\n",
       "      <td>40</td>\n",
       "      <td>בנין המחלקה למדעי החיים ע\"ש טומן - 40</td>\n",
       "    </tr>\n",
       "  </tbody>\n",
       "</table>\n",
       "</div>"
      ],
      "text/plain": [
       "  operating_date      price                 description  \\\n",
       "0     04/08/2019  38,393.43                  מקפיא עמוק   \n",
       "1     29/04/2015   1,734.60  מקפיא 4 מגירות דגם GP 1366   \n",
       "2     29/04/2015   1,734.60  מקפיא 4 מגירות דגם GP 1366   \n",
       "3     29/04/2015   1,734.60  מקפיא 4 מגירות דגם GP 1366   \n",
       "4     29/04/2015   1,699.93  מקפיא דגם, Liebherr GP1376   \n",
       "\n",
       "                                             comment  department_number  \\\n",
       "0  ExF40086 Revco ExF Ultra-Low Temperature Uprig...               5104   \n",
       "1                      מקפיא ליבהר דגם 4  1376 מגרות               5104   \n",
       "2                      מקפיא ליבהר דגם 4  1376 מגרות               5104   \n",
       "3             מקפיא ליבהר 1376. מקפיא ליהבר דגם 1376               5104   \n",
       "4                                    מקפיא ליבר 1376               5104   \n",
       "\n",
       "  department_name building_number                          building_name  \n",
       "0      מדעי החיים              40  בנין המחלקה למדעי החיים ע\"ש טומן - 40  \n",
       "1      מדעי החיים              40  בנין המחלקה למדעי החיים ע\"ש טומן - 40  \n",
       "2      מדעי החיים              40  בנין המחלקה למדעי החיים ע\"ש טומן - 40  \n",
       "3      מדעי החיים              40  בנין המחלקה למדעי החיים ע\"ש טומן - 40  \n",
       "4      מדעי החיים              40  בנין המחלקה למדעי החיים ע\"ש טומן - 40  "
      ]
     },
     "execution_count": 12,
     "metadata": {},
     "output_type": "execute_result"
    }
   ],
   "source": [
    "freezers.rename(columns = {'תאריך קבלה':'operating_date',\n",
    "                           'מחיר כניסה בש\"ח':'price',\n",
    "                           'תיאור האינוונטר':'description',\n",
    "                           'הערות לשורה מההזמנה':'comment',\n",
    "                           'מחלקה':'department_number',\n",
    "                           'שם מחלקה':'department_name',\n",
    "                           'בניין':'building_number',\n",
    "                           'שם בניין':'building_name'}, inplace=True)\n",
    "freezers.head()"
   ]
  },
  {
   "cell_type": "code",
   "execution_count": 13,
   "id": "5cf1cb16",
   "metadata": {},
   "outputs": [
    {
     "data": {
      "text/plain": [
       "(64, 8)"
      ]
     },
     "execution_count": 13,
     "metadata": {},
     "output_type": "execute_result"
    }
   ],
   "source": [
    "freezers.shape"
   ]
  },
  {
   "cell_type": "code",
   "execution_count": 14,
   "id": "d6b75a0f",
   "metadata": {},
   "outputs": [],
   "source": [
    "domestic_df = pd.DataFrame(columns=freezers.columns)\n",
    "industrial_df = pd.DataFrame(columns=freezers.columns)"
   ]
  },
  {
   "cell_type": "code",
   "execution_count": 15,
   "id": "ba08728a",
   "metadata": {},
   "outputs": [],
   "source": [
    "description_col = freezers.columns.get_loc('description')\n",
    "\n",
    "for i in range (freezers['description'].shape[0]):\n",
    "    \n",
    "    if 'עמוק' in freezers.iloc[i,description_col]:\n",
    "        freezers.iloc[i,description_col] = 'Industrial'\n",
    "    if 'תעשייתי' in freezers.iloc[i,description_col]:\n",
    "        freezers.iloc[i,description_col] = 'Industrial'"
   ]
  },
  {
   "cell_type": "code",
   "execution_count": 16,
   "id": "ecbc238d",
   "metadata": {},
   "outputs": [],
   "source": [
    "industrial_rows = freezers[freezers['description'] == 'Industrial']\n",
    "\n",
    "industrial_df = industrial_df.append(industrial_rows, ignore_index = True)\n",
    "\n",
    "freezers.drop(industrial_rows.index, inplace = True)\n",
    "\n",
    "domestic_df = domestic_df.append(freezers, ignore_index = True)\n",
    "\n",
    "industrial_df.drop(['description', 'comment'], axis=1, inplace = True)\n",
    "domestic_df.drop(['description', 'comment'], axis=1, inplace = True)"
   ]
  },
  {
   "cell_type": "code",
   "execution_count": 17,
   "id": "68951b52",
   "metadata": {},
   "outputs": [
    {
     "name": "stdout",
     "output_type": "stream",
     "text": [
      "Industrial Building Numbers: ['40' 'M6' '38' '39' '29']\n",
      "\n",
      "Domestic Building Numbers: ['40' 'M6' '42' '39' '29' '58' '33' '97' 'M7' '51' '38' '59' '41' '65']\n"
     ]
    }
   ],
   "source": [
    "print ('Industrial Building Numbers:', industrial_df['building_number'].unique())\n",
    "print()\n",
    "industrial_df = industrial_df[industrial_df['building_number'] != 'M6']\n",
    "industrial_df.reset_index(drop=True, inplace=True)\n",
    "industrial_df.drop(['price','department_number', 'department_name', 'building_name'], axis=1, inplace=True)\n",
    "\n",
    "print ('Domestic Building Numbers:', domestic_df['building_number'].unique())\n",
    "domestic_df = domestic_df[domestic_df['building_number'] != 'M6']\n",
    "domestic_df = domestic_df[domestic_df['building_number'] != 'M7']\n",
    "domestic_df.reset_index(drop=True, inplace=True)\n",
    "domestic_df.drop(['price','department_number', 'department_name', 'building_name'], axis=1, inplace=True)"
   ]
  },
  {
   "cell_type": "code",
   "execution_count": 18,
   "id": "71d39654",
   "metadata": {},
   "outputs": [],
   "source": [
    "industrial_df['operating_date'] = pd.to_datetime(industrial_df['operating_date'])\n",
    "domestic_df['operating_date'] = pd.to_datetime(domestic_df['operating_date'])"
   ]
  },
  {
   "cell_type": "code",
   "execution_count": 19,
   "id": "a500d49a",
   "metadata": {},
   "outputs": [],
   "source": [
    "months=12\n",
    "for i in range(1, months+1):\n",
    "\n",
    "    string1 = '2019-'\n",
    "    if i != 12:\n",
    "        string2 = str(i+1)\n",
    "        final_date = string1+string2\n",
    "    else:        \n",
    "        string2 = str(i)\n",
    "        string3 = '-31'\n",
    "        final_date = string1+string2+string3\n",
    "    final_date = pd.to_datetime(final_date)\n",
    "\n",
    "    industrial_final = industrial_df[~(industrial_df['operating_date'] >= final_date)]\n",
    "    industrial_final = industrial_final.drop(['operating_date'], axis = 1, inplace=False)\n",
    "\n",
    "    domestic_final = domestic_df[~(domestic_df['operating_date'] >= final_date)]\n",
    "    domestic_final = domestic_final.drop(['operating_date'], axis = 1, inplace=False)\n",
    "\n",
    "    industrial_final = industrial_final.groupby(['building_number']).size().reset_index(name='f_industrial')\n",
    "    domestic_final = domestic_final.groupby(['building_number']).size().reset_index(name='f_domestic')\n",
    "\n",
    "    total_freezers = pd.merge(industrial_final, domestic_final, how='outer', on='building_number')\n",
    "\n",
    "    total_freezers = total_freezers.fillna(0)\n",
    "    total_freezers.sort_values('building_number', axis=0, ascending=True, inplace=True, ignore_index=True)\n",
    "\n",
    "    file_name = 'total_freezers_'+string1+str(i)+'.csv'\n",
    "    total_freezers.to_csv(file_name, index=False, encoding=\"utf-8\")"
   ]
  }
 ],
 "metadata": {
  "kernelspec": {
   "display_name": "Python 3 (ipykernel)",
   "language": "python",
   "name": "python3"
  },
  "language_info": {
   "codemirror_mode": {
    "name": "ipython",
    "version": 3
   },
   "file_extension": ".py",
   "mimetype": "text/x-python",
   "name": "python",
   "nbconvert_exporter": "python",
   "pygments_lexer": "ipython3",
   "version": "3.8.8"
  }
 },
 "nbformat": 4,
 "nbformat_minor": 5
}
