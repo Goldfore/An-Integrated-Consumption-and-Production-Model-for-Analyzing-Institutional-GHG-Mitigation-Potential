{
 "cells": [
  {
   "cell_type": "markdown",
   "id": "88098990",
   "metadata": {},
   "source": [
    "## Setup"
   ]
  },
  {
   "cell_type": "code",
   "execution_count": 1,
   "id": "84b11929",
   "metadata": {},
   "outputs": [
    {
     "name": "stderr",
     "output_type": "stream",
     "text": [
      "C:\\Users\\raziel lab\\AppData\\Local\\Temp\\ipykernel_33540\\1403808273.py:1: DeprecationWarning: Importing display from IPython.core.display is deprecated since IPython 7.14, please import from IPython display\n",
      "  from IPython.core.display import display, HTML\n"
     ]
    },
    {
     "data": {
      "text/html": [
       "<style>.container { width:95% !important; }</style>"
      ],
      "text/plain": [
       "<IPython.core.display.HTML object>"
      ]
     },
     "metadata": {},
     "output_type": "display_data"
    },
    {
     "data": {
      "text/html": [
       "<style>.output_result { max-width:90% !important; }</style>"
      ],
      "text/plain": [
       "<IPython.core.display.HTML object>"
      ]
     },
     "metadata": {},
     "output_type": "display_data"
    }
   ],
   "source": [
    "from IPython.core.display import display, HTML\n",
    "display(HTML(\"<style>.container { width:95% !important; }</style>\"))\n",
    "display(HTML(\"<style>.output_result { max-width:90% !important; }</style>\"))\n",
    "\n",
    "import warnings\n",
    "warnings.filterwarnings(\"ignore\")\n",
    "\n",
    "import numpy as np\n",
    "np.set_printoptions(precision=3)\n",
    "np.set_printoptions(linewidth=170)\n",
    "np.set_printoptions(suppress=True)\n",
    "np.random.seed(8)\n",
    "\n",
    "from time import time, sleep\n",
    "sleep(0.2)"
   ]
  },
  {
   "cell_type": "markdown",
   "id": "b6c544ba",
   "metadata": {},
   "source": [
    "## Imports & Parameters"
   ]
  },
  {
   "cell_type": "code",
   "execution_count": 2,
   "id": "41123f16",
   "metadata": {},
   "outputs": [],
   "source": [
    "import pandas as pd\n",
    "\n",
    "pd.set_option('display.max_columns',None)\n",
    "pd.set_option('display.max_rows', None)\n",
    "random_state = 8"
   ]
  },
  {
   "cell_type": "markdown",
   "id": "bc7da938",
   "metadata": {},
   "source": [
    "## Loading the data"
   ]
  },
  {
   "cell_type": "code",
   "execution_count": 3,
   "id": "89682acb",
   "metadata": {},
   "outputs": [
    {
     "data": {
      "text/plain": [
       "(19442, 26)"
      ]
     },
     "execution_count": 3,
     "metadata": {},
     "output_type": "execute_result"
    }
   ],
   "source": [
    "computers_1 = pd.read_csv('C:/Users/raziel lab/PycharmProjects/ConsumptionModels/Appliances Algorithm/Computers/computers1.csv', encoding='utf8')\n",
    "computers_1.shape"
   ]
  },
  {
   "cell_type": "code",
   "execution_count": 4,
   "id": "841477fe",
   "metadata": {},
   "outputs": [
    {
     "data": {
      "text/plain": [
       "(342, 26)"
      ]
     },
     "execution_count": 4,
     "metadata": {},
     "output_type": "execute_result"
    }
   ],
   "source": [
    "computers_2 = pd.read_csv('C:/Users/raziel lab/PycharmProjects/ConsumptionModels/Appliances Algorithm/Computers/computers2.csv', encoding='utf8')\n",
    "computers_2.shape"
   ]
  },
  {
   "cell_type": "markdown",
   "id": "370e01dc",
   "metadata": {},
   "source": [
    "## Main"
   ]
  },
  {
   "cell_type": "code",
   "execution_count": 5,
   "id": "044ac317",
   "metadata": {},
   "outputs": [
    {
     "data": {
      "text/plain": [
       "(19784, 26)"
      ]
     },
     "execution_count": 5,
     "metadata": {},
     "output_type": "execute_result"
    }
   ],
   "source": [
    "computers = pd.concat([computers_1, computers_2])\n",
    "computers.shape"
   ]
  },
  {
   "cell_type": "code",
   "execution_count": 6,
   "id": "3af99844",
   "metadata": {},
   "outputs": [
    {
     "data": {
      "text/plain": [
       "19784"
      ]
     },
     "execution_count": 6,
     "metadata": {},
     "output_type": "execute_result"
    }
   ],
   "source": [
    "len(computers['אינוונטר'].unique())"
   ]
  },
  {
   "cell_type": "code",
   "execution_count": 7,
   "id": "d32450ba",
   "metadata": {},
   "outputs": [
    {
     "data": {
      "text/plain": [
       "array(['פעיל', 'מאושר\\xa0לגריעה', 'מושאל', 'לא\\xa0מנוהל', 'נגרע'], dtype=object)"
      ]
     },
     "execution_count": 7,
     "metadata": {},
     "output_type": "execute_result"
    }
   ],
   "source": [
    "computers['שם סטטוס'].unique()"
   ]
  },
  {
   "cell_type": "code",
   "execution_count": 8,
   "id": "a91e5e9f",
   "metadata": {},
   "outputs": [
    {
     "data": {
      "text/plain": [
       "array(['פעיל', 'לא\\xa0מנוהל'], dtype=object)"
      ]
     },
     "execution_count": 8,
     "metadata": {},
     "output_type": "execute_result"
    }
   ],
   "source": [
    "computers = computers[(computers['שם סטטוס'] == 'לא מנוהל') | (computers['שם סטטוס'] == 'פעיל')]\n",
    "computers['שם סטטוס'].unique()"
   ]
  },
  {
   "cell_type": "code",
   "execution_count": 9,
   "id": "bd0d1d04",
   "metadata": {},
   "outputs": [
    {
     "name": "stdout",
     "output_type": "stream",
     "text": [
      "Rows Number: 18241\n"
     ]
    }
   ],
   "source": [
    "print(\"Rows Number:\", computers.shape[0])"
   ]
  },
  {
   "cell_type": "code",
   "execution_count": 10,
   "id": "ed22d372",
   "metadata": {},
   "outputs": [
    {
     "data": {
      "text/plain": [
       "array([nan, 'קמפוס מרקוס', 'קמפוס\\xa0שדה\\xa0בוקר', 'קמפוס\\xa0היאס', 'קמפוס היאס', 'פארק\\xa0הייטק', 'קרית\\xa0ברגמן', 'בית\\xa0חולים\\xa0וטרינרי',\n",
       "       'מדעי\\xa0הבריאות\\xa0סורוקה', 'בית\\xa0חולים\\xa0פסיכיאטרי', 'קרית ברגמן', 'קמפוס\\xa0אילת', 'פארק הייטק', 'קמפוס\\xa0חצרים', 'קמפוס\\xa0מרקוס'], dtype=object)"
      ]
     },
     "execution_count": 10,
     "metadata": {},
     "output_type": "execute_result"
    }
   ],
   "source": [
    "computers['שם קמפוס'].unique()"
   ]
  },
  {
   "cell_type": "code",
   "execution_count": 11,
   "id": "f22f403e",
   "metadata": {},
   "outputs": [
    {
     "data": {
      "text/plain": [
       "array([nan, 'קמפוס מרקוס'], dtype=object)"
      ]
     },
     "execution_count": 11,
     "metadata": {},
     "output_type": "execute_result"
    }
   ],
   "source": [
    "computers = computers[(computers['שם קמפוס'] == 'קמפוס מרקוס') | (pd.isnull(computers['שם קמפוס']))]\n",
    "computers['שם קמפוס'].unique()"
   ]
  },
  {
   "cell_type": "code",
   "execution_count": 12,
   "id": "1875158a",
   "metadata": {},
   "outputs": [
    {
     "name": "stdout",
     "output_type": "stream",
     "text": [
      "Rows Number: 16794\n"
     ]
    }
   ],
   "source": [
    "print(\"Rows Number:\", computers.shape[0])"
   ]
  },
  {
   "cell_type": "code",
   "execution_count": 13,
   "id": "1989901b",
   "metadata": {},
   "outputs": [
    {
     "data": {
      "text/html": [
       "<div>\n",
       "<style scoped>\n",
       "    .dataframe tbody tr th:only-of-type {\n",
       "        vertical-align: middle;\n",
       "    }\n",
       "\n",
       "    .dataframe tbody tr th {\n",
       "        vertical-align: top;\n",
       "    }\n",
       "\n",
       "    .dataframe thead th {\n",
       "        text-align: right;\n",
       "    }\n",
       "</style>\n",
       "<table border=\"1\" class=\"dataframe\">\n",
       "  <thead>\n",
       "    <tr style=\"text-align: right;\">\n",
       "      <th></th>\n",
       "      <th>תאריך קבלה</th>\n",
       "      <th>מחיר כניסה בש\"ח</th>\n",
       "      <th>תיאור האינוונטר</th>\n",
       "      <th>הערות לשורה מההזמנה</th>\n",
       "      <th>מחלקה</th>\n",
       "      <th>שם מחלקה</th>\n",
       "      <th>בניין</th>\n",
       "      <th>שם בניין</th>\n",
       "    </tr>\n",
       "  </thead>\n",
       "  <tbody>\n",
       "    <tr>\n",
       "      <th>0</th>\n",
       "      <td>30/04/2007</td>\n",
       "      <td>3,488,331.00</td>\n",
       "      <td>YEDA COMPUTERS .COMPUTER MAC PRO</td>\n",
       "      <td>YEDA COMPUTERS .COMPUTER MAC PRO</td>\n",
       "      <td>5511.0</td>\n",
       "      <td>הנדסת חומרים</td>\n",
       "      <td>NaN</td>\n",
       "      <td>NaN</td>\n",
       "    </tr>\n",
       "    <tr>\n",
       "      <th>1</th>\n",
       "      <td>03/01/2012</td>\n",
       "      <td>377,804.00</td>\n",
       "      <td>SILICON GRAPHICS .COMPUTER SERVER</td>\n",
       "      <td>SILICON GRAPHICS .COMPUTER SERVER</td>\n",
       "      <td>5109.0</td>\n",
       "      <td>המרכז לננו טכנולוגיה</td>\n",
       "      <td>NaN</td>\n",
       "      <td>NaN</td>\n",
       "    </tr>\n",
       "    <tr>\n",
       "      <th>2</th>\n",
       "      <td>18/08/2014</td>\n",
       "      <td>365,161.00</td>\n",
       "      <td>COMPUTER SERVER</td>\n",
       "      <td>COMPUTER SERVER</td>\n",
       "      <td>5108.0</td>\n",
       "      <td>המחלקה למדעי המחשב</td>\n",
       "      <td>37</td>\n",
       "      <td>בניין 37 אלון לטכנולוגיה עילית</td>\n",
       "    </tr>\n",
       "    <tr>\n",
       "      <th>3</th>\n",
       "      <td>06/11/2006</td>\n",
       "      <td>327,983.00</td>\n",
       "      <td>ANKOR COMPUTERS .COMPUTER SERVER NETAPP</td>\n",
       "      <td>ANKOR COMPUTERS .COMPUTER SERVER NETAPP</td>\n",
       "      <td>5000.0</td>\n",
       "      <td>אגף טכנולוגיות חדשנות ודיגיטל</td>\n",
       "      <td>NaN</td>\n",
       "      <td>NaN</td>\n",
       "    </tr>\n",
       "    <tr>\n",
       "      <th>4</th>\n",
       "      <td>12/11/1996</td>\n",
       "      <td>279,342.18</td>\n",
       "      <td>DIGITAL EQUIPMENT .COMPUTER SERVER ALPHA 4100</td>\n",
       "      <td>DIGITAL EQUIPMENT .COMPUTER SERVER ALPHA 4100</td>\n",
       "      <td>5000.0</td>\n",
       "      <td>אגף טכנולוגיות חדשנות ודיגיטל</td>\n",
       "      <td>NaN</td>\n",
       "      <td>NaN</td>\n",
       "    </tr>\n",
       "  </tbody>\n",
       "</table>\n",
       "</div>"
      ],
      "text/plain": [
       "   תאריך קבלה מחיר כניסה בש\"ח                                תיאור האינוונטר  \\\n",
       "0  30/04/2007    3,488,331.00               YEDA COMPUTERS .COMPUTER MAC PRO   \n",
       "1  03/01/2012      377,804.00            SILICON GRAPHICS .COMPUTER SERVER     \n",
       "2  18/08/2014      365,161.00                              COMPUTER SERVER     \n",
       "3  06/11/2006      327,983.00        ANKOR COMPUTERS .COMPUTER SERVER NETAPP   \n",
       "4  12/11/1996      279,342.18  DIGITAL EQUIPMENT .COMPUTER SERVER ALPHA 4100   \n",
       "\n",
       "                             הערות לשורה מההזמנה   מחלקה  \\\n",
       "0               YEDA COMPUTERS .COMPUTER MAC PRO  5511.0   \n",
       "1            SILICON GRAPHICS .COMPUTER SERVER    5109.0   \n",
       "2                              COMPUTER SERVER    5108.0   \n",
       "3        ANKOR COMPUTERS .COMPUTER SERVER NETAPP  5000.0   \n",
       "4  DIGITAL EQUIPMENT .COMPUTER SERVER ALPHA 4100  5000.0   \n",
       "\n",
       "                        שם מחלקה בניין                        שם בניין  \n",
       "0                   הנדסת חומרים   NaN                             NaN  \n",
       "1           המרכז לננו טכנולוגיה   NaN                             NaN  \n",
       "2             המחלקה למדעי המחשב    37  בניין 37 אלון לטכנולוגיה עילית  \n",
       "3  אגף טכנולוגיות חדשנות ודיגיטל   NaN                             NaN  \n",
       "4  אגף טכנולוגיות חדשנות ודיגיטל   NaN                             NaN  "
      ]
     },
     "execution_count": 13,
     "metadata": {},
     "output_type": "execute_result"
    }
   ],
   "source": [
    "computers.drop(['אינוונטר','סטטוס','שם סטטוס','תאריך עדכון אחרון','פריט','מחיר כניסה בדולר','הזמנה','סריאלי','מחיר ידני','קוד סימון','תז שואל','פטור מותנה','מנוהל תמיד','קמפוס','שם קמפוס','קומה','חדר','הערות לפריט אומנות'], axis=1, inplace=True)\n",
    "computers.reset_index(drop=True, inplace=True)\n",
    "computers.head()"
   ]
  },
  {
   "cell_type": "code",
   "execution_count": 14,
   "id": "0995cb08",
   "metadata": {},
   "outputs": [
    {
     "data": {
      "text/html": [
       "<div>\n",
       "<style scoped>\n",
       "    .dataframe tbody tr th:only-of-type {\n",
       "        vertical-align: middle;\n",
       "    }\n",
       "\n",
       "    .dataframe tbody tr th {\n",
       "        vertical-align: top;\n",
       "    }\n",
       "\n",
       "    .dataframe thead th {\n",
       "        text-align: right;\n",
       "    }\n",
       "</style>\n",
       "<table border=\"1\" class=\"dataframe\">\n",
       "  <thead>\n",
       "    <tr style=\"text-align: right;\">\n",
       "      <th></th>\n",
       "      <th>operating_date</th>\n",
       "      <th>price</th>\n",
       "      <th>description</th>\n",
       "      <th>comment</th>\n",
       "      <th>department_number</th>\n",
       "      <th>department_name</th>\n",
       "      <th>building_number</th>\n",
       "      <th>building_name</th>\n",
       "    </tr>\n",
       "  </thead>\n",
       "  <tbody>\n",
       "    <tr>\n",
       "      <th>0</th>\n",
       "      <td>30/04/2007</td>\n",
       "      <td>3,488,331.00</td>\n",
       "      <td>YEDA COMPUTERS .COMPUTER MAC PRO</td>\n",
       "      <td>YEDA COMPUTERS .COMPUTER MAC PRO</td>\n",
       "      <td>5511.0</td>\n",
       "      <td>הנדסת חומרים</td>\n",
       "      <td>NaN</td>\n",
       "      <td>NaN</td>\n",
       "    </tr>\n",
       "    <tr>\n",
       "      <th>1</th>\n",
       "      <td>03/01/2012</td>\n",
       "      <td>377,804.00</td>\n",
       "      <td>SILICON GRAPHICS .COMPUTER SERVER</td>\n",
       "      <td>SILICON GRAPHICS .COMPUTER SERVER</td>\n",
       "      <td>5109.0</td>\n",
       "      <td>המרכז לננו טכנולוגיה</td>\n",
       "      <td>NaN</td>\n",
       "      <td>NaN</td>\n",
       "    </tr>\n",
       "    <tr>\n",
       "      <th>2</th>\n",
       "      <td>18/08/2014</td>\n",
       "      <td>365,161.00</td>\n",
       "      <td>COMPUTER SERVER</td>\n",
       "      <td>COMPUTER SERVER</td>\n",
       "      <td>5108.0</td>\n",
       "      <td>המחלקה למדעי המחשב</td>\n",
       "      <td>37</td>\n",
       "      <td>בניין 37 אלון לטכנולוגיה עילית</td>\n",
       "    </tr>\n",
       "    <tr>\n",
       "      <th>3</th>\n",
       "      <td>06/11/2006</td>\n",
       "      <td>327,983.00</td>\n",
       "      <td>ANKOR COMPUTERS .COMPUTER SERVER NETAPP</td>\n",
       "      <td>ANKOR COMPUTERS .COMPUTER SERVER NETAPP</td>\n",
       "      <td>5000.0</td>\n",
       "      <td>אגף טכנולוגיות חדשנות ודיגיטל</td>\n",
       "      <td>NaN</td>\n",
       "      <td>NaN</td>\n",
       "    </tr>\n",
       "    <tr>\n",
       "      <th>4</th>\n",
       "      <td>12/11/1996</td>\n",
       "      <td>279,342.18</td>\n",
       "      <td>DIGITAL EQUIPMENT .COMPUTER SERVER ALPHA 4100</td>\n",
       "      <td>DIGITAL EQUIPMENT .COMPUTER SERVER ALPHA 4100</td>\n",
       "      <td>5000.0</td>\n",
       "      <td>אגף טכנולוגיות חדשנות ודיגיטל</td>\n",
       "      <td>NaN</td>\n",
       "      <td>NaN</td>\n",
       "    </tr>\n",
       "  </tbody>\n",
       "</table>\n",
       "</div>"
      ],
      "text/plain": [
       "  operating_date         price                                    description  \\\n",
       "0     30/04/2007  3,488,331.00               YEDA COMPUTERS .COMPUTER MAC PRO   \n",
       "1     03/01/2012    377,804.00            SILICON GRAPHICS .COMPUTER SERVER     \n",
       "2     18/08/2014    365,161.00                              COMPUTER SERVER     \n",
       "3     06/11/2006    327,983.00        ANKOR COMPUTERS .COMPUTER SERVER NETAPP   \n",
       "4     12/11/1996    279,342.18  DIGITAL EQUIPMENT .COMPUTER SERVER ALPHA 4100   \n",
       "\n",
       "                                         comment  department_number  \\\n",
       "0               YEDA COMPUTERS .COMPUTER MAC PRO             5511.0   \n",
       "1            SILICON GRAPHICS .COMPUTER SERVER               5109.0   \n",
       "2                              COMPUTER SERVER               5108.0   \n",
       "3        ANKOR COMPUTERS .COMPUTER SERVER NETAPP             5000.0   \n",
       "4  DIGITAL EQUIPMENT .COMPUTER SERVER ALPHA 4100             5000.0   \n",
       "\n",
       "                 department_name building_number  \\\n",
       "0                   הנדסת חומרים             NaN   \n",
       "1           המרכז לננו טכנולוגיה             NaN   \n",
       "2             המחלקה למדעי המחשב              37   \n",
       "3  אגף טכנולוגיות חדשנות ודיגיטל             NaN   \n",
       "4  אגף טכנולוגיות חדשנות ודיגיטל             NaN   \n",
       "\n",
       "                    building_name  \n",
       "0                             NaN  \n",
       "1                             NaN  \n",
       "2  בניין 37 אלון לטכנולוגיה עילית  \n",
       "3                             NaN  \n",
       "4                             NaN  "
      ]
     },
     "execution_count": 14,
     "metadata": {},
     "output_type": "execute_result"
    }
   ],
   "source": [
    "computers.rename(columns = {'תאריך קבלה':'operating_date',\n",
    "                            'מחיר כניסה בש\"ח':'price',\n",
    "                            'תיאור האינוונטר':'description',\n",
    "                            'הערות לשורה מההזמנה':'comment',\n",
    "                            'מחלקה':'department_number',\n",
    "                           'שם מחלקה':'department_name',\n",
    "                           'בניין':'building_number',\n",
    "                           'שם בניין':'building_name'}, inplace=True)\n",
    "computers.head()"
   ]
  },
  {
   "cell_type": "code",
   "execution_count": 15,
   "id": "b868c865",
   "metadata": {},
   "outputs": [
    {
     "data": {
      "text/plain": [
       "(16794, 8)"
      ]
     },
     "execution_count": 15,
     "metadata": {},
     "output_type": "execute_result"
    }
   ],
   "source": [
    "computers.shape"
   ]
  },
  {
   "cell_type": "code",
   "execution_count": 16,
   "id": "a2ee49e3",
   "metadata": {},
   "outputs": [],
   "source": [
    "servers_df = pd.DataFrame(columns=computers.columns)\n",
    "desktops_df = pd.DataFrame(columns=computers.columns)\n",
    "laptops_df = pd.DataFrame(columns=computers.columns)"
   ]
  },
  {
   "cell_type": "code",
   "execution_count": 17,
   "id": "ce582b7f",
   "metadata": {},
   "outputs": [],
   "source": [
    "description_col = computers.columns.get_loc('description')\n",
    "\n",
    "for i in range (computers['description'].shape[0]):\n",
    "    \n",
    "    if 'Server' in computers.iloc[i,description_col]:\n",
    "        computers.iloc[i,description_col] = 'Server'\n",
    "    if 'server' in computers.iloc[i,description_col]:\n",
    "        computers.iloc[i,description_col] = 'Server'    \n",
    "    if 'SERVER' in computers.iloc[i,description_col]:\n",
    "        computers.iloc[i,description_col] = 'Server'\n",
    "    if 'שרת' in computers.iloc[i,description_col]:\n",
    "        computers.iloc[i,description_col] = 'Server'\n",
    "    if 'COMPAQ DL' in computers.iloc[i,description_col]:\n",
    "        computers.iloc[i,description_col] = 'Server'\n",
    "    if 'COMPAQ ML' in computers.iloc[i,description_col]:\n",
    "        computers.iloc[i,description_col] = 'Server'\n",
    "    if 'DELL R' in computers.iloc[i,description_col]:\n",
    "        computers.iloc[i,description_col] = 'Server'\n",
    "    if 'DELL POW2650' in computers.iloc[i,description_col]:\n",
    "        computers.iloc[i,description_col] = 'Server'\n",
    "    if 'I.B.M X355' in computers.iloc[i,description_col]:\n",
    "        computers.iloc[i,description_col] = 'Server'\n",
    "    if 'I.B.M X335' in computers.iloc[i,description_col]:\n",
    "        computers.iloc[i,description_col] = 'Server'\n",
    "    if 'I.B.M X330' in computers.iloc[i,description_col]:\n",
    "        computers.iloc[i,description_col] = 'Server'\n",
    "    if 'COMPUTER SUN' in computers.iloc[i,description_col]:\n",
    "        computers.iloc[i,description_col] = 'Server'\n",
    "    if 'Laptop' in computers.iloc[i,description_col]:\n",
    "        computers.iloc[i,description_col] = 'Laptop'\n",
    "    if 'laptop' in computers.iloc[i,description_col]:\n",
    "        computers.iloc[i,description_col] = 'Laptop'\n",
    "    if 'LAPTOP' in computers.iloc[i,description_col]:\n",
    "        computers.iloc[i,description_col] = 'Laptop'        \n",
    "    if 'Personal' in computers.iloc[i,description_col]:\n",
    "        computers.iloc[i,description_col] = 'Laptop'\n",
    "    if 'personal' in computers.iloc[i,description_col]:\n",
    "        computers.iloc[i,description_col] = 'Laptop'\n",
    "    if 'PERSONAL' in computers.iloc[i,description_col]:\n",
    "        computers.iloc[i,description_col] = 'Laptop'        \n",
    "    if 'נייד' in computers.iloc[i,description_col]:\n",
    "        computers.iloc[i,description_col] = 'Laptop'\n",
    "    if 'MacBook' in computers.iloc[i,description_col]:\n",
    "         computers.iloc[i,description_col] = 'Laptop'\n",
    "    if 'COMPUTER MAC PB-G4' in computers.iloc[i,description_col]:\n",
    "        computers.iloc[i,description_col] = 'Laptop'\n",
    "    if 'COMPUTER MAC P/BOOK G3' in computers.iloc[i,description_col]:\n",
    "        computers.iloc[i,description_col] = 'Laptop'\n",
    "    if 'BookPro' in computers.iloc[i,description_col]:\n",
    "        computers.iloc[i,description_col] = 'Laptop'\n",
    "    if 'COMPUTER LENOVO X' in computers.iloc[i,description_col]:\n",
    "        computers.iloc[i,description_col] = 'Laptop'        \n",
    "    if 'COMPUTER LENOVO YOGA' in computers.iloc[i,description_col]:\n",
    "        computers.iloc[i,description_col] = 'Laptop'\n",
    "    if 'COMPUTER TOSHIBA Z' in computers.iloc[i,description_col]:\n",
    "        computers.iloc[i,description_col] = 'Laptop'\n",
    "    if 'COMPUTER TOSHIBA SATELLITE' in computers.iloc[i,description_col]:\n",
    "        computers.iloc[i,description_col] = 'Laptop'\n",
    "    if 'COMPUTER TOSHIBA R700' in computers.iloc[i,description_col]:\n",
    "        computers.iloc[i,description_col] = 'Laptop'\n",
    "    if 'COMPUTER DELL E' in computers.iloc[i,description_col]:\n",
    "        computers.iloc[i,description_col] = 'Laptop'\n",
    "    if 'COMPUTER DELL INSPIRON' in computers.iloc[i,description_col]:\n",
    "        computers.iloc[i,description_col] = 'Laptop'\n",
    "    if 'COMPUTER DELL VOSTRO' in computers.iloc[i,description_col]:\n",
    "        computers.iloc[i,description_col] = 'Laptop'\n",
    "    if 'COMPUTER DELL LATITUDE' in computers.iloc[i,description_col]:\n",
    "        computers.iloc[i,description_col] = 'Laptop'        \n",
    "    if 'COMPUTER DELL XPS13' in computers.iloc[i,description_col]:\n",
    "        computers.iloc[i,description_col] = 'Laptop'\n",
    "    if 'COMPUTER DELL D360' in computers.iloc[i,description_col]:\n",
    "        computers.iloc[i,description_col] = 'Laptop'    \n",
    "    if 'COMPUTER HP ELITEBOOK' in computers.iloc[i,description_col]:\n",
    "        computers.iloc[i,description_col] = 'Laptop'\n",
    "    if 'COMPUTER HP PROBOOK' in computers.iloc[i,description_col]:\n",
    "        computers.iloc[i,description_col] = 'Laptop'        \n",
    "    if 'COMPUTER HP 6470' in computers.iloc[i,description_col]:\n",
    "        computers.iloc[i,description_col] = 'Laptop'\n",
    "    if 'COMPUTER HP 6460B' in computers.iloc[i,description_col]:\n",
    "        computers.iloc[i,description_col] = 'Laptop'\n",
    "    if 'COMPUTER I.B.M A' in computers.iloc[i,description_col]:\n",
    "        computers.iloc[i,description_col] = 'Laptop'        \n",
    "    if 'COMPUTER I.B.M T' in computers.iloc[i,description_col]:\n",
    "        computers.iloc[i,description_col] = 'Laptop'\n",
    "    if 'COMPUTER I.B.M X' in computers.iloc[i,description_col]:\n",
    "        computers.iloc[i,description_col] = 'Laptop'\n",
    "    if 'COMPUTER SAMSUNG 900X' in computers.iloc[i,description_col]:\n",
    "        computers.iloc[i,description_col] = 'Laptop'        \n",
    "    if 'COMPUTER COMPAQ ARMADA' in computers.iloc[i,description_col]:\n",
    "        computers.iloc[i,description_col] = 'Laptop'\n",
    "    if 'COMPUTER FUJITSU A544' in computers.iloc[i,description_col]:\n",
    "        computers.iloc[i,description_col] = 'Laptop'\n",
    "    if 'COMPUTER SONY VAIO' in computers.iloc[i,description_col]:\n",
    "        computers.iloc[i,description_col] = 'Laptop'"
   ]
  },
  {
   "cell_type": "code",
   "execution_count": 18,
   "id": "ae8ba6d7",
   "metadata": {},
   "outputs": [],
   "source": [
    "servers_rows = computers[computers['description'] == 'Server']\n",
    "laptops_rows = computers[computers['description'] == 'Laptop']\n",
    "\n",
    "servers_df = servers_df.append(servers_rows, ignore_index = True)\n",
    "laptops_df = laptops_df.append(laptops_rows, ignore_index = True)\n",
    "\n",
    "computers.drop(servers_rows.index, inplace = True)\n",
    "computers.drop(laptops_rows.index, inplace = True)\n",
    "\n",
    "desktops_df = desktops_df.append(computers, ignore_index = True)\n",
    "\n",
    "servers_df.drop(['description', 'comment'], axis=1, inplace = True)\n",
    "desktops_df.drop(['description', 'comment'], axis=1, inplace = True)\n",
    "laptops_df.drop(['description', 'comment'], axis=1, inplace = True)"
   ]
  },
  {
   "cell_type": "code",
   "execution_count": 19,
   "id": "2172e9ec",
   "metadata": {},
   "outputs": [
    {
     "name": "stdout",
     "output_type": "stream",
     "text": [
      "Servers Without Building: 291\n",
      "Servers With Building: 376\n",
      "\n",
      "Desktops Without Building: 6107\n",
      "Desktops With Building: 8258\n",
      "\n",
      "Laptops Without Building: 1253\n",
      "Laptops With Building: 509\n"
     ]
    }
   ],
   "source": [
    "servers_without_building = servers_df[pd.isnull(servers_df['building_number']) == True]\n",
    "print('Servers Without Building:',len(servers_without_building))\n",
    "servers_with_building = servers_df[pd.isnull(servers_df['building_number']) == False]\n",
    "print('Servers With Building:',len(servers_with_building))\n",
    "print()\n",
    "\n",
    "desktops_without_building = desktops_df[pd.isnull(desktops_df['building_number']) == True]\n",
    "print('Desktops Without Building:',len(desktops_without_building))\n",
    "desktops_with_building = desktops_df[pd.isnull(desktops_df['building_number']) == False]\n",
    "print('Desktops With Building:',len(desktops_with_building))\n",
    "print()\n",
    "\n",
    "laptops_without_building = laptops_df[pd.isnull(laptops_df['building_number']) == True]\n",
    "print('Laptops Without Building:',len(laptops_without_building))\n",
    "laptops_with_building = laptops_df[pd.isnull(laptops_df['building_number']) == False]\n",
    "print('Laptops With Building:',len(laptops_with_building))"
   ]
  },
  {
   "cell_type": "code",
   "execution_count": 20,
   "id": "a0278f38",
   "metadata": {},
   "outputs": [
    {
     "name": "stdout",
     "output_type": "stream",
     "text": [
      "Servers Without Department: 0\n",
      "\n",
      "Desktops Without Department: 4\n",
      "\n",
      "Laptops Without Department: 0\n"
     ]
    }
   ],
   "source": [
    "servers_without_department = servers_df[pd.isnull(servers_df['department_name']) == True]\n",
    "print('Servers Without Department:',len(servers_without_department))\n",
    "print()\n",
    "\n",
    "desktops_without_department = desktops_df[pd.isnull(desktops_df['department_name']) == True]\n",
    "print('Desktops Without Department:',len(desktops_without_department))\n",
    "print()\n",
    "\n",
    "laptops_without_department = laptops_df[pd.isnull(laptops_df['department_name']) == True]\n",
    "print('Laptops Without Department:',len(laptops_without_department))"
   ]
  },
  {
   "cell_type": "code",
   "execution_count": 21,
   "id": "3953f148",
   "metadata": {},
   "outputs": [
    {
     "name": "stdout",
     "output_type": "stream",
     "text": [
      "Unique Departments in Servers df: 29\n",
      "\n",
      "Unique Departments in Desktops df: 159\n",
      "\n",
      "Unique Departments in Laptops df: 66\n",
      "\n"
     ]
    }
   ],
   "source": [
    "print('Unique Departments in Servers df:', servers_with_building['department_name'].unique().shape[0])\n",
    "print()\n",
    "\n",
    "print('Unique Departments in Desktops df:', desktops_with_building['department_name'].unique().shape[0])\n",
    "print()\n",
    "\n",
    "print('Unique Departments in Laptops df:', laptops_with_building['department_name'].unique().shape[0])\n",
    "print()"
   ]
  },
  {
   "cell_type": "code",
   "execution_count": 22,
   "id": "44db439f",
   "metadata": {
    "scrolled": false
   },
   "outputs": [],
   "source": [
    "servers_div_percentage = servers_with_building.groupby(['department_name','building_number']).size().reset_index(name='count')\n",
    "servers_div_percentage_sum = servers_div_percentage.groupby(['department_name']).sum()\n",
    "servers_div_percentage_count = servers_div_percentage.merge(servers_div_percentage_sum, how='left', on='department_name')\n",
    "servers_div_percentage_count['percentage'] = servers_div_percentage_count['count_x'].divide(servers_div_percentage_count['count_y'], axis=0)\n",
    "servers_div_percentage.drop(['count'], axis=1, inplace=True)\n",
    "servers_div_percentage['percentage'] = servers_div_percentage_count['percentage'].values\n",
    "\n",
    "desktops_div_percentage = desktops_with_building.groupby(['department_name','building_number']).size().reset_index(name='count')\n",
    "desktops_div_percentage_sum = desktops_div_percentage.groupby(['department_name']).sum()\n",
    "desktops_div_percentage_count = desktops_div_percentage.merge(desktops_div_percentage_sum, how='left', on='department_name')\n",
    "desktops_div_percentage_count['percentage'] = desktops_div_percentage_count['count_x'].divide(desktops_div_percentage_count['count_y'], axis=0)\n",
    "desktops_div_percentage.drop(['count'], axis=1, inplace=True)\n",
    "desktops_div_percentage['percentage'] = desktops_div_percentage_count['percentage'].values\n",
    "\n",
    "laptops_div_percentage = laptops_with_building.groupby(['department_name','building_number']).size().reset_index(name='count')\n",
    "laptops_div_percentage_sum = laptops_div_percentage.groupby(['department_name']).sum()\n",
    "laptops_div_percentage_count = laptops_div_percentage.merge(laptops_div_percentage_sum, how='left', on='department_name')\n",
    "laptops_div_percentage_count['percentage'] = laptops_div_percentage_count['count_x'].divide(laptops_div_percentage_count['count_y'], axis=0)\n",
    "laptops_div_percentage.drop(['count'], axis=1, inplace=True)\n",
    "laptops_div_percentage['percentage'] = laptops_div_percentage_count['percentage'].values"
   ]
  },
  {
   "cell_type": "code",
   "execution_count": 23,
   "id": "1c339985",
   "metadata": {},
   "outputs": [],
   "source": [
    "for i in range (servers_without_building['department_name'].unique().shape[0]):\n",
    "    rows_for_change = servers_without_building[servers_without_building['department_name'] == servers_without_building['department_name'].unique()[i]]\n",
    "    percentage_for_insert = servers_div_percentage[servers_div_percentage['department_name'] == servers_without_building['department_name'].unique()[i]]\n",
    "    num_of_different_buildings = len(percentage_for_insert)\n",
    "    interval1 = 0\n",
    "    interval2 = 0\n",
    "    for j in range (num_of_different_buildings):\n",
    "        interval2 = interval2 + round(rows_for_change.shape[0]*percentage_for_insert.iloc[j,percentage_for_insert.columns.get_loc('percentage')])\n",
    "        if j == (num_of_different_buildings-1):\n",
    "            interval2 = len(rows_for_change)\n",
    "        rows_for_change.iloc[interval1:interval2,rows_for_change.columns.get_loc('building_number')] = percentage_for_insert.iloc[j,percentage_for_insert.columns.get_loc('building_number')]\n",
    "        interval1 = interval1 + round(rows_for_change.shape[0]*percentage_for_insert.iloc[j,percentage_for_insert.columns.get_loc('percentage')])\n",
    "        servers_without_building[servers_without_building['department_name'] == servers_without_building['department_name'].unique()[i]] = rows_for_change\n",
    "        \n",
    "for i in range (desktops_without_building['department_name'].unique().shape[0]):\n",
    "    rows_for_change = desktops_without_building[desktops_without_building['department_name'] == desktops_without_building['department_name'].unique()[i]]\n",
    "    percentage_for_insert = desktops_div_percentage[desktops_div_percentage['department_name'] == desktops_without_building['department_name'].unique()[i]]\n",
    "    num_of_different_buildings = len(percentage_for_insert)\n",
    "    interval1 = 0\n",
    "    interval2 = 0\n",
    "    for j in range (num_of_different_buildings):\n",
    "        interval2 = interval2 + round(rows_for_change.shape[0]*percentage_for_insert.iloc[j,percentage_for_insert.columns.get_loc('percentage')])\n",
    "        if j == (num_of_different_buildings-1):\n",
    "            interval2 = len(rows_for_change)\n",
    "        rows_for_change.iloc[interval1:interval2,rows_for_change.columns.get_loc('building_number')] = percentage_for_insert.iloc[j,percentage_for_insert.columns.get_loc('building_number')]\n",
    "        interval1 = interval1 + round(rows_for_change.shape[0]*percentage_for_insert.iloc[j,percentage_for_insert.columns.get_loc('percentage')])\n",
    "        desktops_without_building[desktops_without_building['department_name'] == desktops_without_building['department_name'].unique()[i]] = rows_for_change\n",
    "    \n",
    "for i in range (laptops_without_building['department_name'].unique().shape[0]):\n",
    "    rows_for_change = laptops_without_building[laptops_without_building['department_name'] == laptops_without_building['department_name'].unique()[i]]\n",
    "    percentage_for_insert = laptops_div_percentage[laptops_div_percentage['department_name'] == laptops_without_building['department_name'].unique()[i]]\n",
    "    num_of_different_buildings = len(percentage_for_insert)\n",
    "    interval1 = 0\n",
    "    interval2 = 0\n",
    "    for j in range (num_of_different_buildings):\n",
    "        interval2 = interval2 + round(rows_for_change.shape[0]*percentage_for_insert.iloc[j,percentage_for_insert.columns.get_loc('percentage')])\n",
    "        if j == (num_of_different_buildings-1):\n",
    "            interval2 = len(rows_for_change)\n",
    "        rows_for_change.iloc[interval1:interval2,rows_for_change.columns.get_loc('building_number')] = percentage_for_insert.iloc[j,percentage_for_insert.columns.get_loc('building_number')]\n",
    "        interval1 = interval1 + round(rows_for_change.shape[0]*percentage_for_insert.iloc[j,percentage_for_insert.columns.get_loc('percentage')])\n",
    "        laptops_without_building[laptops_without_building['department_name'] == laptops_without_building['department_name'].unique()[i]] = rows_for_change"
   ]
  },
  {
   "cell_type": "code",
   "execution_count": 24,
   "id": "402f904c",
   "metadata": {},
   "outputs": [],
   "source": [
    "servers_df = pd.concat([servers_without_building, servers_with_building])\n",
    "servers_df.sort_values('building_number', axis=0, ascending=False, inplace=True, ignore_index=True)\n",
    "\n",
    "desktops_df = pd.concat([desktops_without_building, desktops_with_building])\n",
    "desktops_df.sort_values('building_number', axis=0, ascending=False, inplace=True, ignore_index=True)\n",
    "\n",
    "laptops_df = pd.concat([laptops_without_building, laptops_with_building])\n",
    "laptops_df.sort_values('building_number', axis=0, ascending=False, inplace=True, ignore_index=True)"
   ]
  },
  {
   "cell_type": "code",
   "execution_count": 25,
   "id": "f6a5236f",
   "metadata": {},
   "outputs": [
    {
     "name": "stdout",
     "output_type": "stream",
     "text": [
      "[6932. 6922. 6160. 5905. 5901. 5723. 5709. 5513. 5512. 5511. 5508. 5421. 5356. 5329. 5319. 5304. 5109. 3913.]\n"
     ]
    }
   ],
   "source": [
    "servers_exceptions = servers_df[pd.isnull(servers_df['building_number']) == True]\n",
    "servers_exceptions.sort_values('department_number', axis=0, ascending=False, inplace=True, ignore_index=True)\n",
    "print(servers_exceptions['department_number'].unique())"
   ]
  },
  {
   "cell_type": "code",
   "execution_count": 26,
   "id": "0bdc0329",
   "metadata": {},
   "outputs": [
    {
     "name": "stdout",
     "output_type": "stream",
     "text": [
      "Servers Exceptions Before Cleaning: 68\n",
      "Servers Exceptions After Cleaning: 0\n"
     ]
    }
   ],
   "source": [
    "print('Servers Exceptions Before Cleaning:',len(servers_df['department_number'][pd.isnull(servers_df['building_number']) == True]))\n",
    "\n",
    "servers_df = servers_df[servers_df['department_number'] != 6932]\n",
    "servers_df = servers_df[servers_df['department_number'] != 6922]\n",
    "servers_df = servers_df[servers_df['department_number'] != 6160]\n",
    "servers_df = servers_df[servers_df['department_number'] != 5905]\n",
    "servers_df = servers_df[servers_df['department_number'] != 5901]\n",
    "servers_df = servers_df[servers_df['department_number'] != 5421]\n",
    "servers_df = servers_df[servers_df['department_number'] != 3913]\n",
    "\n",
    "servers_df['building_number'][servers_df['department_number'] == 5723] = '50'\n",
    "servers_df['building_number'][servers_df['department_number'] == 5709] = '71'\n",
    "servers_df['building_number'][servers_df['department_number'] == 5513] = '39'\n",
    "servers_df['building_number'][servers_df['department_number'] == 5512] = '63'\n",
    "servers_df['building_number'][servers_df['department_number'] == 5511] = '63'\n",
    "servers_df['building_number'][servers_df['department_number'] == 5508] = '59'\n",
    "servers_df['building_number'][servers_df['department_number'] == 5356] = '72'\n",
    "servers_df['building_number'][servers_df['department_number'] == 5329] = '72'\n",
    "servers_df['building_number'][servers_df['department_number'] == 5319] = '72'\n",
    "servers_df['building_number'][servers_df['department_number'] == 5304] = '72'\n",
    "servers_df['building_number'][servers_df['department_number'] == 5109] = '51'\n",
    "\n",
    "print('Servers Exceptions After Cleaning:',len(servers_df['department_number'][pd.isnull(servers_df['building_number']) == True]))"
   ]
  },
  {
   "cell_type": "code",
   "execution_count": 27,
   "id": "85c0ec2e",
   "metadata": {},
   "outputs": [
    {
     "name": "stdout",
     "output_type": "stream",
     "text": [
      "[6932. 6922. 6912. 6260. 6204. 6160. 5930. 5905. 5904. 5818. 5816. 5811. 5807. 5743. 5724. 5714. 5421. 5330. 5323. 5322. 3919. 3918. 3913.   nan]\n"
     ]
    }
   ],
   "source": [
    "desktops_exceptions = desktops_df[pd.isnull(desktops_df['building_number']) == True]\n",
    "desktops_exceptions.sort_values('department_number', axis=0, ascending=False, inplace=True, ignore_index=True)\n",
    "print(desktops_exceptions['department_number'].unique())\n"
   ]
  },
  {
   "cell_type": "code",
   "execution_count": 28,
   "id": "28ca4a39",
   "metadata": {},
   "outputs": [
    {
     "name": "stdout",
     "output_type": "stream",
     "text": [
      "Desktops Exceptions Before Cleaning: 1203\n",
      "Desktops Exceptions After Cleaning: 0\n"
     ]
    }
   ],
   "source": [
    "print('Desktops Exceptions Before Cleaning:',len(desktops_df['department_number'][pd.isnull(desktops_df['building_number']) == True]))\n",
    "\n",
    "desktops_df = desktops_df[pd.isnull(desktops_df['department_number']) == False]\n",
    "desktops_df = desktops_df[desktops_df['department_number'] != 6932]\n",
    "desktops_df = desktops_df[desktops_df['department_number'] != 6922]\n",
    "desktops_df = desktops_df[desktops_df['department_number'] != 6912]\n",
    "desktops_df = desktops_df[desktops_df['department_number'] != 6260]\n",
    "desktops_df = desktops_df[desktops_df['department_number'] != 6204]\n",
    "desktops_df = desktops_df[desktops_df['department_number'] != 6160]\n",
    "desktops_df = desktops_df[desktops_df['department_number'] != 5930]\n",
    "desktops_df = desktops_df[desktops_df['department_number'] != 5905]\n",
    "desktops_df = desktops_df[desktops_df['department_number'] != 5904]\n",
    "desktops_df = desktops_df[desktops_df['department_number'] != 5818]\n",
    "desktops_df = desktops_df[desktops_df['department_number'] != 5816]\n",
    "desktops_df = desktops_df[desktops_df['department_number'] != 5811]\n",
    "desktops_df = desktops_df[desktops_df['department_number'] != 5807]\n",
    "desktops_df = desktops_df[desktops_df['department_number'] != 5714]\n",
    "desktops_df = desktops_df[desktops_df['department_number'] != 5421]\n",
    "desktops_df = desktops_df[desktops_df['department_number'] != 3913]\n",
    "\n",
    "\n",
    "desktops_df['building_number'][desktops_df['department_number'] == 5743] = '71'\n",
    "desktops_df['building_number'][desktops_df['department_number'] == 5724] = '71'\n",
    "desktops_df['building_number'][desktops_df['department_number'] == 5330] = '72'\n",
    "desktops_df['building_number'][desktops_df['department_number'] == 5323] = '72'\n",
    "desktops_df['building_number'][desktops_df['department_number'] == 5322] = '72'\n",
    "desktops_df['building_number'][desktops_df['department_number'] == 3919] = '34'\n",
    "desktops_df['building_number'][desktops_df['department_number'] == 3918] = '60'\n",
    "\n",
    "print('Desktops Exceptions After Cleaning:',len(desktops_df['department_number'][pd.isnull(desktops_df['building_number']) == True]))"
   ]
  },
  {
   "cell_type": "code",
   "execution_count": 29,
   "id": "d0aabfc2",
   "metadata": {},
   "outputs": [
    {
     "name": "stdout",
     "output_type": "stream",
     "text": [
      "[39031.  6932.  6922.  6912.  6260.  6204.  6160.  6037.  5930.  5917.  5905.  5901.  5850.  5706.  5702.  5600.  5558.  5522.  5518.  5517.  5421.  5330.  5301.  5109.\n",
      "  3919.  3907.]\n"
     ]
    }
   ],
   "source": [
    "laptops_exceptions = laptops_df[pd.isnull(laptops_df['building_number']) == True]\n",
    "laptops_exceptions.sort_values('department_number', axis=0, ascending=False, inplace=True, ignore_index=True)\n",
    "print(laptops_exceptions['department_number'].unique())"
   ]
  },
  {
   "cell_type": "code",
   "execution_count": 30,
   "id": "99343b83",
   "metadata": {},
   "outputs": [
    {
     "name": "stdout",
     "output_type": "stream",
     "text": [
      "Laptops Exceptions Before Cleaning: 701\n",
      "Laptops Exceptions After Cleaning: 0\n"
     ]
    }
   ],
   "source": [
    "print('Laptops Exceptions Before Cleaning:',len(laptops_df['department_number'][pd.isnull(laptops_df['building_number']) == True]))\n",
    "\n",
    "laptops_df = laptops_df[laptops_df['department_number'] != 39031]\n",
    "laptops_df = laptops_df[laptops_df['department_number'] != 6932]\n",
    "laptops_df = laptops_df[laptops_df['department_number'] != 6922]\n",
    "laptops_df = laptops_df[laptops_df['department_number'] != 6912]\n",
    "laptops_df = laptops_df[laptops_df['department_number'] != 6260]\n",
    "laptops_df = laptops_df[laptops_df['department_number'] != 6204]\n",
    "laptops_df = laptops_df[laptops_df['department_number'] != 6160]\n",
    "laptops_df = laptops_df[laptops_df['department_number'] != 6037]\n",
    "laptops_df = laptops_df[laptops_df['department_number'] != 5930]\n",
    "laptops_df = laptops_df[laptops_df['department_number'] != 5917]\n",
    "laptops_df = laptops_df[laptops_df['department_number'] != 5905]\n",
    "laptops_df = laptops_df[laptops_df['department_number'] != 5901]\n",
    "laptops_df = laptops_df[laptops_df['department_number'] != 5421]\n",
    "\n",
    "\n",
    "laptops_df['building_number'][laptops_df['department_number'] == 5850] = '72'\n",
    "laptops_df['building_number'][laptops_df['department_number'] == 5706] = '71'\n",
    "laptops_df['building_number'][laptops_df['department_number'] == 5702] = '71'\n",
    "laptops_df['building_number'][laptops_df['department_number'] == 5600] = '22'\n",
    "laptops_df['building_number'][laptops_df['department_number'] == 5558] = '63'\n",
    "laptops_df['building_number'][laptops_df['department_number'] == 5522] = '63'\n",
    "laptops_df['building_number'][laptops_df['department_number'] == 5518] = '42'\n",
    "laptops_df['building_number'][laptops_df['department_number'] == 5517] = '42'\n",
    "laptops_df['building_number'][laptops_df['department_number'] == 5330] = '72'\n",
    "laptops_df['building_number'][laptops_df['department_number'] == 5301] = '98'\n",
    "laptops_df['building_number'][laptops_df['department_number'] == 5109] = '51'\n",
    "laptops_df['building_number'][laptops_df['department_number'] == 3919] = '34'\n",
    "laptops_df['building_number'][laptops_df['department_number'] == 3907] = '30'\n",
    "\n",
    "\n",
    "print('Laptops Exceptions After Cleaning:',len(laptops_df['department_number'][pd.isnull(laptops_df['building_number']) == True]))"
   ]
  },
  {
   "cell_type": "code",
   "execution_count": 31,
   "id": "ccf4ca1a",
   "metadata": {},
   "outputs": [
    {
     "name": "stdout",
     "output_type": "stream",
     "text": [
      "Servers Building Numbers: ['98' '97' '93' '72' '64' '62' '58' '55' '51' '50' '41' '37' '34' '33' '32' '30' '22' '16' '15' '63' '39' '71' '59']\n",
      "\n",
      "Desktops Building Numbers: ['M9' 'M8' 'M7' 'M6' 'M10' '98' '97' '96' '95' '93A' '93' '91' '90' '74' '72' '71' '70' '67' '65' '64' '63' '62' '60' '59' '58' '57' '56' '55' '54' '51' '50' '43' '42'\n",
      " '41' '40' '39' '38' '37' '35' '34' '33' '32' '30' '29' '26' '22' '18' '17' '16' '15' '14']\n",
      "\n",
      "Laptops Building Numbers: ['M6' '98' '97' '96' '93A' '93' '90' '74' '72' '71' '70' '64' '63' '62' '59' '58' '56' '55' '54' '51' '50' '41' '40' '39' '38' '37' '35' '34' '33' '32' '30' '29' '26'\n",
      " '18' '17' '16' '15' '14' '42' '22']\n"
     ]
    }
   ],
   "source": [
    "print ('Servers Building Numbers:', servers_df['building_number'].unique())\n",
    "print()\n",
    "servers_df.drop(['price','department_number', 'department_name', 'building_name'], axis=1, inplace=True)\n",
    "\n",
    "print ('Desktops Building Numbers:', desktops_df['building_number'].unique())\n",
    "print()\n",
    "desktops_df = desktops_df[desktops_df['building_number'] != 'M10']\n",
    "desktops_df = desktops_df[desktops_df['building_number'] != 'M9']\n",
    "desktops_df = desktops_df[desktops_df['building_number'] != 'M8']\n",
    "desktops_df = desktops_df[desktops_df['building_number'] != 'M7']\n",
    "desktops_df = desktops_df[desktops_df['building_number'] != 'M6']\n",
    "desktops_df.reset_index(drop=True, inplace=True)\n",
    "desktops_df.drop(['price','department_number', 'department_name', 'building_name'], axis=1, inplace=True)\n",
    "\n",
    "print ('Laptops Building Numbers:', laptops_df['building_number'].unique())\n",
    "laptops_df = laptops_df[laptops_df['building_number'] != 'M6']\n",
    "laptops_df.reset_index(drop=True, inplace=True)\n",
    "laptops_df.drop(['price','department_number', 'department_name', 'building_name'], axis=1, inplace=True)"
   ]
  },
  {
   "cell_type": "code",
   "execution_count": 32,
   "id": "10d3a080",
   "metadata": {},
   "outputs": [],
   "source": [
    "servers_df['operating_date'] = pd.to_datetime(servers_df['operating_date'])\n",
    "desktops_df['operating_date'] = pd.to_datetime(desktops_df['operating_date'])\n",
    "laptops_df['operating_date'] = pd.to_datetime(laptops_df['operating_date'])"
   ]
  },
  {
   "cell_type": "code",
   "execution_count": 33,
   "id": "50cffbef",
   "metadata": {},
   "outputs": [],
   "source": [
    "months=12\n",
    "for i in range(1, months+1):\n",
    "\n",
    "    string1 = '2019-'\n",
    "    if i != 12:\n",
    "        string2 = str(i+1)\n",
    "        final_date = string1+string2\n",
    "    else:        \n",
    "        string2 = str(i)\n",
    "        string3 = '-31'\n",
    "        final_date = string1+string2+string3\n",
    "    final_date = pd.to_datetime(final_date)\n",
    "\n",
    "    servers_final = servers_df[~(servers_df['operating_date'] >= final_date)]\n",
    "    servers_final = servers_final.drop(['operating_date'], axis = 1, inplace=False)\n",
    "\n",
    "    desktops_final = desktops_df[~(desktops_df['operating_date'] >= final_date)]\n",
    "    desktops_final = desktops_final.drop(['operating_date'], axis = 1, inplace=False)\n",
    "\n",
    "    laptops_final = laptops_df[~(laptops_df['operating_date'] >= final_date)]\n",
    "    laptops_final = laptops_final.drop(['operating_date'], axis = 1, inplace=False)\n",
    "\n",
    "    servers_final = servers_final.groupby(['building_number']).size().reset_index(name='c_server')\n",
    "    desktops_final = desktops_final.groupby(['building_number']).size().reset_index(name='c_desktop')\n",
    "    laptops_final = laptops_final.groupby(['building_number']).size().reset_index(name='c_laptop')\n",
    "\n",
    "    total_computers = pd.merge(desktops_final, laptops_final, how='outer', on='building_number')\n",
    "    total_computers = pd.merge(total_computers, servers_final, how='outer', on='building_number')\n",
    "\n",
    "    total_computers = total_computers.fillna(0)\n",
    "    total_computers.sort_values('building_number', axis=0, ascending=True, inplace=True, ignore_index=True)\n",
    "\n",
    "    file_name = 'total_computers_'+string1+str(i)+'.csv'\n",
    "    total_computers.to_csv(file_name, index=False, encoding=\"utf-8\")"
   ]
  }
 ],
 "metadata": {
  "kernelspec": {
   "display_name": "Python 3 (ipykernel)",
   "language": "python",
   "name": "python3"
  },
  "language_info": {
   "codemirror_mode": {
    "name": "ipython",
    "version": 3
   },
   "file_extension": ".py",
   "mimetype": "text/x-python",
   "name": "python",
   "nbconvert_exporter": "python",
   "pygments_lexer": "ipython3",
   "version": "3.8.8"
  }
 },
 "nbformat": 4,
 "nbformat_minor": 5
}
