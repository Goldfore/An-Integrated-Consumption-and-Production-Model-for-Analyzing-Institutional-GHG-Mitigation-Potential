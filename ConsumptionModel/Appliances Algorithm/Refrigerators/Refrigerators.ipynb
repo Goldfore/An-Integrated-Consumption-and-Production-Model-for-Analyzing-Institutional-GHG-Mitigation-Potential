{
 "cells": [
  {
   "cell_type": "markdown",
   "id": "362aa382",
   "metadata": {},
   "source": [
    "## Setup"
   ]
  },
  {
   "cell_type": "code",
   "execution_count": 1,
   "id": "f4271156",
   "metadata": {},
   "outputs": [
    {
     "name": "stderr",
     "output_type": "stream",
     "text": [
      "C:\\Users\\raziel lab\\AppData\\Local\\Temp\\ipykernel_30804\\1403808273.py:1: DeprecationWarning: Importing display from IPython.core.display is deprecated since IPython 7.14, please import from IPython display\n",
      "  from IPython.core.display import display, HTML\n"
     ]
    },
    {
     "data": {
      "text/html": [
       "<style>.container { width:95% !important; }</style>"
      ],
      "text/plain": [
       "<IPython.core.display.HTML object>"
      ]
     },
     "metadata": {},
     "output_type": "display_data"
    },
    {
     "data": {
      "text/html": [
       "<style>.output_result { max-width:90% !important; }</style>"
      ],
      "text/plain": [
       "<IPython.core.display.HTML object>"
      ]
     },
     "metadata": {},
     "output_type": "display_data"
    }
   ],
   "source": [
    "from IPython.core.display import display, HTML\n",
    "display(HTML(\"<style>.container { width:95% !important; }</style>\"))\n",
    "display(HTML(\"<style>.output_result { max-width:90% !important; }</style>\"))\n",
    "\n",
    "import warnings\n",
    "warnings.filterwarnings(\"ignore\")\n",
    "\n",
    "import numpy as np\n",
    "np.set_printoptions(precision=3)\n",
    "np.set_printoptions(linewidth=170)\n",
    "np.set_printoptions(suppress=True)\n",
    "np.random.seed(8)\n",
    "\n",
    "from time import time, sleep\n",
    "sleep(0.2)"
   ]
  },
  {
   "cell_type": "markdown",
   "id": "e3f42cec",
   "metadata": {},
   "source": [
    "## Imports & Parameters"
   ]
  },
  {
   "cell_type": "code",
   "execution_count": 2,
   "id": "671550ef",
   "metadata": {},
   "outputs": [],
   "source": [
    "import pandas as pd\n",
    "\n",
    "pd.set_option('display.max_columns',None)\n",
    "pd.set_option('display.max_rows', None)\n",
    "random_state = 8"
   ]
  },
  {
   "cell_type": "markdown",
   "id": "0d2c9511",
   "metadata": {},
   "source": [
    "## Loading the data"
   ]
  },
  {
   "cell_type": "code",
   "execution_count": 3,
   "id": "5d3f08df",
   "metadata": {},
   "outputs": [
    {
     "data": {
      "text/plain": [
       "(816, 26)"
      ]
     },
     "execution_count": 3,
     "metadata": {},
     "output_type": "execute_result"
    }
   ],
   "source": [
    "refrigerators_1 = pd.read_csv('C:/Users/raziel lab/PycharmProjects/ConsumptionModels/Appliances Algorithm/Refrigerators/refrigerators1.csv', encoding='utf8')\n",
    "refrigerators_1.shape"
   ]
  },
  {
   "cell_type": "code",
   "execution_count": 4,
   "id": "73056cfa",
   "metadata": {},
   "outputs": [
    {
     "data": {
      "text/plain": [
       "(594, 26)"
      ]
     },
     "execution_count": 4,
     "metadata": {},
     "output_type": "execute_result"
    }
   ],
   "source": [
    "refrigerators_2 = pd.read_csv('C:/Users/raziel lab/PycharmProjects/ConsumptionModels/Appliances Algorithm/Refrigerators/refrigerators2.csv', encoding='utf8')\n",
    "refrigerators_2.shape"
   ]
  },
  {
   "cell_type": "markdown",
   "id": "f4fb743f",
   "metadata": {},
   "source": [
    "## Main"
   ]
  },
  {
   "cell_type": "code",
   "execution_count": 5,
   "id": "e34faa27",
   "metadata": {},
   "outputs": [
    {
     "data": {
      "text/plain": [
       "(1410, 26)"
      ]
     },
     "execution_count": 5,
     "metadata": {},
     "output_type": "execute_result"
    }
   ],
   "source": [
    "refrigerators = pd.concat([refrigerators_1, refrigerators_2])\n",
    "refrigerators.shape"
   ]
  },
  {
   "cell_type": "code",
   "execution_count": 6,
   "id": "a44447bd",
   "metadata": {},
   "outputs": [
    {
     "data": {
      "text/plain": [
       "1410"
      ]
     },
     "execution_count": 6,
     "metadata": {},
     "output_type": "execute_result"
    }
   ],
   "source": [
    "len(refrigerators['אינוונטר'].unique())"
   ]
  },
  {
   "cell_type": "code",
   "execution_count": 7,
   "id": "2a911d16",
   "metadata": {},
   "outputs": [
    {
     "data": {
      "text/plain": [
       "array(['פעיל', 'מאושר\\xa0לגריעה', 'נגרע', 'לא\\xa0מנוהל'], dtype=object)"
      ]
     },
     "execution_count": 7,
     "metadata": {},
     "output_type": "execute_result"
    }
   ],
   "source": [
    "refrigerators['שם סטטוס'].unique()"
   ]
  },
  {
   "cell_type": "code",
   "execution_count": 8,
   "id": "263ed27e",
   "metadata": {},
   "outputs": [
    {
     "data": {
      "text/plain": [
       "array(['פעיל', 'לא\\xa0מנוהל'], dtype=object)"
      ]
     },
     "execution_count": 8,
     "metadata": {},
     "output_type": "execute_result"
    }
   ],
   "source": [
    "refrigerators = refrigerators[(refrigerators['שם סטטוס'] == 'לא מנוהל') | (refrigerators['שם סטטוס'] == 'פעיל')]\n",
    "refrigerators['שם סטטוס'].unique()"
   ]
  },
  {
   "cell_type": "code",
   "execution_count": 9,
   "id": "d6011ae2",
   "metadata": {},
   "outputs": [
    {
     "name": "stdout",
     "output_type": "stream",
     "text": [
      "Rows Number: 1353\n"
     ]
    }
   ],
   "source": [
    "print(\"Rows Number:\",refrigerators.shape[0])"
   ]
  },
  {
   "cell_type": "code",
   "execution_count": 10,
   "id": "42d580c9",
   "metadata": {},
   "outputs": [
    {
     "data": {
      "text/plain": [
       "array([nan, 'קמפוס\\xa0מרקוס', 'מדעי\\xa0הבריאות\\xa0סורוקה', 'קמפוס\\xa0שדה\\xa0בוקר', 'קרית\\xa0ברגמן', 'פארק\\xa0הייטק', \"מעונות\\xa0ג'\", \"מעונות\\xa0ד'\", 'קמפוס\\xa0אילת',\n",
       "       'קמפוס\\xa0היאס'], dtype=object)"
      ]
     },
     "execution_count": 10,
     "metadata": {},
     "output_type": "execute_result"
    }
   ],
   "source": [
    "refrigerators['שם קמפוס'].unique()"
   ]
  },
  {
   "cell_type": "code",
   "execution_count": 11,
   "id": "0adda1cf",
   "metadata": {},
   "outputs": [
    {
     "data": {
      "text/plain": [
       "array([nan, 'קמפוס\\xa0מרקוס'], dtype=object)"
      ]
     },
     "execution_count": 11,
     "metadata": {},
     "output_type": "execute_result"
    }
   ],
   "source": [
    "refrigerators = refrigerators[(refrigerators['שם קמפוס'] == 'קמפוס מרקוס') | (pd.isnull(refrigerators['שם קמפוס']))]\n",
    "refrigerators['שם קמפוס'].unique()"
   ]
  },
  {
   "cell_type": "code",
   "execution_count": 12,
   "id": "33df00a3",
   "metadata": {},
   "outputs": [
    {
     "name": "stdout",
     "output_type": "stream",
     "text": [
      "Rows Number: 847\n"
     ]
    }
   ],
   "source": [
    "print(\"Rows Number:\", refrigerators.shape[0])"
   ]
  },
  {
   "cell_type": "code",
   "execution_count": 13,
   "id": "cb899ac5",
   "metadata": {},
   "outputs": [
    {
     "data": {
      "text/html": [
       "<div>\n",
       "<style scoped>\n",
       "    .dataframe tbody tr th:only-of-type {\n",
       "        vertical-align: middle;\n",
       "    }\n",
       "\n",
       "    .dataframe tbody tr th {\n",
       "        vertical-align: top;\n",
       "    }\n",
       "\n",
       "    .dataframe thead th {\n",
       "        text-align: right;\n",
       "    }\n",
       "</style>\n",
       "<table border=\"1\" class=\"dataframe\">\n",
       "  <thead>\n",
       "    <tr style=\"text-align: right;\">\n",
       "      <th></th>\n",
       "      <th>תאריך קבלה</th>\n",
       "      <th>מחיר כניסה בש\"ח</th>\n",
       "      <th>תיאור האינוונטר</th>\n",
       "      <th>הערות לשורה מההזמנה</th>\n",
       "      <th>מחלקה</th>\n",
       "      <th>שם מחלקה</th>\n",
       "      <th>בניין</th>\n",
       "      <th>שם בניין</th>\n",
       "    </tr>\n",
       "  </thead>\n",
       "  <tbody>\n",
       "    <tr>\n",
       "      <th>0</th>\n",
       "      <td>01/08/1993</td>\n",
       "      <td>72,017.60</td>\n",
       "      <td>R.M. PHOTONICS .REFRIGERATOR AMNIS CCS 200 Spe...</td>\n",
       "      <td>R.M. PHOTONICS .REFRIGERATOR AMNIS CCS 200</td>\n",
       "      <td>5105</td>\n",
       "      <td>פיסיקה</td>\n",
       "      <td>95</td>\n",
       "      <td>בנין מעבדות למחקרים מתקדמים)מט''מ) - 95</td>\n",
       "    </tr>\n",
       "    <tr>\n",
       "      <th>1</th>\n",
       "      <td>10/08/2015</td>\n",
       "      <td>67,585.36</td>\n",
       "      <td>Innova 42R Refrigerated Incubator Shaker, 230 V</td>\n",
       "      <td>כולל האביזרים המפורטים בהצעת המחיר. = כולל שנת...</td>\n",
       "      <td>5910</td>\n",
       "      <td>מיקרוביולוגיה - מדעי הבריאות</td>\n",
       "      <td>41</td>\n",
       "      <td>בניין המכון הלאומי לביוטכנולוגיה בנגב, ע\"ש אדג...</td>\n",
       "    </tr>\n",
       "    <tr>\n",
       "      <th>2</th>\n",
       "      <td>15/10/1991</td>\n",
       "      <td>46,001.24</td>\n",
       "      <td>LAVANT-DU PONT .CENTRIFUGE-REFRIGERATING</td>\n",
       "      <td>LAVANT-DU PONT .CENTRIFUGE-REFRIGERATING</td>\n",
       "      <td>5901</td>\n",
       "      <td>דיקן הפקולטה למדעי הבריאות</td>\n",
       "      <td>NaN</td>\n",
       "      <td>NaN</td>\n",
       "    </tr>\n",
       "    <tr>\n",
       "      <th>3</th>\n",
       "      <td>04/03/2012</td>\n",
       "      <td>44,371.00</td>\n",
       "      <td>INCUBATOR REFRIGERATED MAX-Q 6000</td>\n",
       "      <td>INCUBATOR REFRIGERATED MAX-Q 6000</td>\n",
       "      <td>5104</td>\n",
       "      <td>מדעי החיים</td>\n",
       "      <td>NaN</td>\n",
       "      <td>NaN</td>\n",
       "    </tr>\n",
       "    <tr>\n",
       "      <th>4</th>\n",
       "      <td>10/08/2015</td>\n",
       "      <td>43,222.55</td>\n",
       "      <td>Innova 42R Refrigerated Incubator Shaker, 230 V</td>\n",
       "      <td>220 V, 50 Hz  .Shelf. Overall Dimensions: 62(W...</td>\n",
       "      <td>5513</td>\n",
       "      <td>ביוטכנולוגיה</td>\n",
       "      <td>41</td>\n",
       "      <td>בניין המכון הלאומי לביוטכנולוגיה בנגב, ע\"ש אדג...</td>\n",
       "    </tr>\n",
       "  </tbody>\n",
       "</table>\n",
       "</div>"
      ],
      "text/plain": [
       "   תאריך קבלה מחיר כניסה בש\"ח  \\\n",
       "0  01/08/1993       72,017.60   \n",
       "1  10/08/2015       67,585.36   \n",
       "2  15/10/1991       46,001.24   \n",
       "3  04/03/2012       44,371.00   \n",
       "4  10/08/2015       43,222.55   \n",
       "\n",
       "                                     תיאור האינוונטר  \\\n",
       "0  R.M. PHOTONICS .REFRIGERATOR AMNIS CCS 200 Spe...   \n",
       "1    Innova 42R Refrigerated Incubator Shaker, 230 V   \n",
       "2           LAVANT-DU PONT .CENTRIFUGE-REFRIGERATING   \n",
       "3                  INCUBATOR REFRIGERATED MAX-Q 6000   \n",
       "4    Innova 42R Refrigerated Incubator Shaker, 230 V   \n",
       "\n",
       "                                 הערות לשורה מההזמנה  מחלקה  \\\n",
       "0         R.M. PHOTONICS .REFRIGERATOR AMNIS CCS 200   5105   \n",
       "1  כולל האביזרים המפורטים בהצעת המחיר. = כולל שנת...   5910   \n",
       "2           LAVANT-DU PONT .CENTRIFUGE-REFRIGERATING   5901   \n",
       "3                  INCUBATOR REFRIGERATED MAX-Q 6000   5104   \n",
       "4  220 V, 50 Hz  .Shelf. Overall Dimensions: 62(W...   5513   \n",
       "\n",
       "                       שם מחלקה בניין  \\\n",
       "0                        פיסיקה    95   \n",
       "1  מיקרוביולוגיה - מדעי הבריאות    41   \n",
       "2    דיקן הפקולטה למדעי הבריאות   NaN   \n",
       "3                    מדעי החיים   NaN   \n",
       "4                  ביוטכנולוגיה    41   \n",
       "\n",
       "                                            שם בניין  \n",
       "0            בנין מעבדות למחקרים מתקדמים)מט''מ) - 95  \n",
       "1  בניין המכון הלאומי לביוטכנולוגיה בנגב, ע\"ש אדג...  \n",
       "2                                                NaN  \n",
       "3                                                NaN  \n",
       "4  בניין המכון הלאומי לביוטכנולוגיה בנגב, ע\"ש אדג...  "
      ]
     },
     "execution_count": 13,
     "metadata": {},
     "output_type": "execute_result"
    }
   ],
   "source": [
    "refrigerators.drop(['אינוונטר','סטטוס','שם סטטוס','תאריך עדכון אחרון','פריט','מחיר כניסה בדולר','הזמנה','סריאלי','מחיר ידני','קוד סימון','תז שואל','פטור מותנה','מנוהל תמיד','קמפוס','שם קמפוס','קומה','חדר','הערות לפריט אומנות'], axis=1, inplace=True)\n",
    "refrigerators.reset_index(drop=True, inplace=True)\n",
    "refrigerators.head()"
   ]
  },
  {
   "cell_type": "code",
   "execution_count": 14,
   "id": "3243d503",
   "metadata": {},
   "outputs": [
    {
     "data": {
      "text/html": [
       "<div>\n",
       "<style scoped>\n",
       "    .dataframe tbody tr th:only-of-type {\n",
       "        vertical-align: middle;\n",
       "    }\n",
       "\n",
       "    .dataframe tbody tr th {\n",
       "        vertical-align: top;\n",
       "    }\n",
       "\n",
       "    .dataframe thead th {\n",
       "        text-align: right;\n",
       "    }\n",
       "</style>\n",
       "<table border=\"1\" class=\"dataframe\">\n",
       "  <thead>\n",
       "    <tr style=\"text-align: right;\">\n",
       "      <th></th>\n",
       "      <th>operating_date</th>\n",
       "      <th>price</th>\n",
       "      <th>description</th>\n",
       "      <th>comment</th>\n",
       "      <th>department_number</th>\n",
       "      <th>department_name</th>\n",
       "      <th>building_number</th>\n",
       "      <th>building_name</th>\n",
       "    </tr>\n",
       "  </thead>\n",
       "  <tbody>\n",
       "    <tr>\n",
       "      <th>0</th>\n",
       "      <td>01/08/1993</td>\n",
       "      <td>72,017.60</td>\n",
       "      <td>R.M. PHOTONICS .REFRIGERATOR AMNIS CCS 200 Spe...</td>\n",
       "      <td>R.M. PHOTONICS .REFRIGERATOR AMNIS CCS 200</td>\n",
       "      <td>5105</td>\n",
       "      <td>פיסיקה</td>\n",
       "      <td>95</td>\n",
       "      <td>בנין מעבדות למחקרים מתקדמים)מט''מ) - 95</td>\n",
       "    </tr>\n",
       "    <tr>\n",
       "      <th>1</th>\n",
       "      <td>10/08/2015</td>\n",
       "      <td>67,585.36</td>\n",
       "      <td>Innova 42R Refrigerated Incubator Shaker, 230 V</td>\n",
       "      <td>כולל האביזרים המפורטים בהצעת המחיר. = כולל שנת...</td>\n",
       "      <td>5910</td>\n",
       "      <td>מיקרוביולוגיה - מדעי הבריאות</td>\n",
       "      <td>41</td>\n",
       "      <td>בניין המכון הלאומי לביוטכנולוגיה בנגב, ע\"ש אדג...</td>\n",
       "    </tr>\n",
       "    <tr>\n",
       "      <th>2</th>\n",
       "      <td>15/10/1991</td>\n",
       "      <td>46,001.24</td>\n",
       "      <td>LAVANT-DU PONT .CENTRIFUGE-REFRIGERATING</td>\n",
       "      <td>LAVANT-DU PONT .CENTRIFUGE-REFRIGERATING</td>\n",
       "      <td>5901</td>\n",
       "      <td>דיקן הפקולטה למדעי הבריאות</td>\n",
       "      <td>NaN</td>\n",
       "      <td>NaN</td>\n",
       "    </tr>\n",
       "    <tr>\n",
       "      <th>3</th>\n",
       "      <td>04/03/2012</td>\n",
       "      <td>44,371.00</td>\n",
       "      <td>INCUBATOR REFRIGERATED MAX-Q 6000</td>\n",
       "      <td>INCUBATOR REFRIGERATED MAX-Q 6000</td>\n",
       "      <td>5104</td>\n",
       "      <td>מדעי החיים</td>\n",
       "      <td>NaN</td>\n",
       "      <td>NaN</td>\n",
       "    </tr>\n",
       "    <tr>\n",
       "      <th>4</th>\n",
       "      <td>10/08/2015</td>\n",
       "      <td>43,222.55</td>\n",
       "      <td>Innova 42R Refrigerated Incubator Shaker, 230 V</td>\n",
       "      <td>220 V, 50 Hz  .Shelf. Overall Dimensions: 62(W...</td>\n",
       "      <td>5513</td>\n",
       "      <td>ביוטכנולוגיה</td>\n",
       "      <td>41</td>\n",
       "      <td>בניין המכון הלאומי לביוטכנולוגיה בנגב, ע\"ש אדג...</td>\n",
       "    </tr>\n",
       "  </tbody>\n",
       "</table>\n",
       "</div>"
      ],
      "text/plain": [
       "  operating_date      price  \\\n",
       "0     01/08/1993  72,017.60   \n",
       "1     10/08/2015  67,585.36   \n",
       "2     15/10/1991  46,001.24   \n",
       "3     04/03/2012  44,371.00   \n",
       "4     10/08/2015  43,222.55   \n",
       "\n",
       "                                         description  \\\n",
       "0  R.M. PHOTONICS .REFRIGERATOR AMNIS CCS 200 Spe...   \n",
       "1    Innova 42R Refrigerated Incubator Shaker, 230 V   \n",
       "2           LAVANT-DU PONT .CENTRIFUGE-REFRIGERATING   \n",
       "3                  INCUBATOR REFRIGERATED MAX-Q 6000   \n",
       "4    Innova 42R Refrigerated Incubator Shaker, 230 V   \n",
       "\n",
       "                                             comment  department_number  \\\n",
       "0         R.M. PHOTONICS .REFRIGERATOR AMNIS CCS 200               5105   \n",
       "1  כולל האביזרים המפורטים בהצעת המחיר. = כולל שנת...               5910   \n",
       "2           LAVANT-DU PONT .CENTRIFUGE-REFRIGERATING               5901   \n",
       "3                  INCUBATOR REFRIGERATED MAX-Q 6000               5104   \n",
       "4  220 V, 50 Hz  .Shelf. Overall Dimensions: 62(W...               5513   \n",
       "\n",
       "                department_name building_number  \\\n",
       "0                        פיסיקה              95   \n",
       "1  מיקרוביולוגיה - מדעי הבריאות              41   \n",
       "2    דיקן הפקולטה למדעי הבריאות             NaN   \n",
       "3                    מדעי החיים             NaN   \n",
       "4                  ביוטכנולוגיה              41   \n",
       "\n",
       "                                       building_name  \n",
       "0            בנין מעבדות למחקרים מתקדמים)מט''מ) - 95  \n",
       "1  בניין המכון הלאומי לביוטכנולוגיה בנגב, ע\"ש אדג...  \n",
       "2                                                NaN  \n",
       "3                                                NaN  \n",
       "4  בניין המכון הלאומי לביוטכנולוגיה בנגב, ע\"ש אדג...  "
      ]
     },
     "execution_count": 14,
     "metadata": {},
     "output_type": "execute_result"
    }
   ],
   "source": [
    "refrigerators.rename(columns = {'תאריך קבלה':'operating_date',\n",
    "                                'מחיר כניסה בש\"ח':'price',\n",
    "                                'תיאור האינוונטר':'description',\n",
    "                                'הערות לשורה מההזמנה':'comment',\n",
    "                                'מחלקה':'department_number',\n",
    "                                'שם מחלקה':'department_name',\n",
    "                                'בניין':'building_number',\n",
    "                                'שם בניין':'building_name'}, inplace=True)\n",
    "refrigerators.head()"
   ]
  },
  {
   "cell_type": "code",
   "execution_count": 15,
   "id": "e72bc2ed",
   "metadata": {},
   "outputs": [
    {
     "data": {
      "text/plain": [
       "(847, 8)"
      ]
     },
     "execution_count": 15,
     "metadata": {},
     "output_type": "execute_result"
    }
   ],
   "source": [
    "refrigerators.shape"
   ]
  },
  {
   "cell_type": "code",
   "execution_count": 16,
   "id": "48465e1a",
   "metadata": {},
   "outputs": [],
   "source": [
    "domestic_df = pd.DataFrame(columns=refrigerators.columns)\n",
    "industrial_df = pd.DataFrame(columns=refrigerators.columns)\n",
    "other_df = pd.DataFrame(columns=refrigerators.columns)"
   ]
  },
  {
   "cell_type": "code",
   "execution_count": 17,
   "id": "b7ec1b01",
   "metadata": {},
   "outputs": [],
   "source": [
    "description_col = refrigerators.columns.get_loc('description')\n",
    "\n",
    "for i in range (refrigerators['description'].shape[0]):\n",
    "    \n",
    "    if 'CIRCULATOR' in refrigerators.iloc[i,description_col]:\n",
    "        refrigerators.iloc[i,description_col] = 'Other'\n",
    "    if 'Circulator' in refrigerators.iloc[i,description_col]:\n",
    "        refrigerators.iloc[i,description_col] = 'Other'\n",
    "    if 'circulator' in refrigerators.iloc[i,description_col]:\n",
    "        refrigerators.iloc[i,description_col] = 'Other'\n",
    "    if 'INCUBATOR' in refrigerators.iloc[i,description_col]:\n",
    "        refrigerators.iloc[i,description_col] = 'Other'\n",
    "    if 'Incubator' in refrigerators.iloc[i,description_col]:\n",
    "        refrigerators.iloc[i,description_col] = 'Other'\n",
    "    if 'incubator' in refrigerators.iloc[i,description_col]:\n",
    "        refrigerators.iloc[i,description_col] = 'Other'\n",
    "    if 'CENTRIFUGE' in refrigerators.iloc[i,description_col]:\n",
    "        refrigerators.iloc[i,description_col] = 'Other'\n",
    "    if 'Centrifuge' in refrigerators.iloc[i,description_col]:\n",
    "        refrigerators.iloc[i,description_col] = 'Other'\n",
    "    if 'centrifuge' in refrigerators.iloc[i,description_col]:\n",
    "        refrigerators.iloc[i,description_col] = 'Other'\n",
    "    if 'Digital Precise' in refrigerators.iloc[i,description_col]:\n",
    "        refrigerators.iloc[i,description_col] = 'Other'\n",
    "    if 'ALEX RED' in refrigerators.iloc[i,description_col]:\n",
    "        refrigerators.iloc[i,description_col] = 'Other'\n",
    "    if 'LABOTAL LTD .REFRIGERATOR' in refrigerators.iloc[i,description_col]:\n",
    "        refrigerators.iloc[i,description_col] = 'Other'\n",
    "    if 'Special' in refrigerators.iloc[i,description_col]:\n",
    "        refrigerators.iloc[i,description_col] = 'Other'  \n",
    "    if 'INDUSTRIAL' in refrigerators.iloc[i,description_col]:\n",
    "        refrigerators.iloc[i,description_col] = 'Industrial'\n",
    "    if 'Industrial' in refrigerators.iloc[i,description_col]:\n",
    "        refrigerators.iloc[i,description_col] = 'Industrial'\n",
    "    if 'industrial' in refrigerators.iloc[i,description_col]:\n",
    "        refrigerators.iloc[i,description_col] = 'Industrial'\n",
    "    if 'תעשייתי' in refrigerators.iloc[i,description_col]:\n",
    "        refrigerators.iloc[i,description_col] = 'Industrial'\n",
    "    if 'אחסון' in refrigerators.iloc[i,description_col]:\n",
    "        refrigerators.iloc[i,description_col] = 'Industrial'\n",
    "    if 'IARP' in refrigerators.iloc[i,description_col]:\n",
    "        refrigerators.iloc[i,description_col] = 'Industrial'\n",
    "    if 'KIRUR BENNY' in refrigerators.iloc[i,description_col]:\n",
    "        refrigerators.iloc[i,description_col] = 'Industrial'\n",
    "    if 'KIRUR FELDMAN' in refrigerators.iloc[i,description_col]:\n",
    "        refrigerators.iloc[i,description_col] = 'Industrial'\n",
    "    if 'MONDIAL' in refrigerators.iloc[i,description_col]:\n",
    "        refrigerators.iloc[i,description_col] = 'Industrial'\n",
    "    if 'ICE' in refrigerators.iloc[i,description_col]:\n",
    "        refrigerators.iloc[i,description_col] = 'Industrial'\n",
    "    if 'AMNIS' in refrigerators.iloc[i,description_col]:\n",
    "        refrigerators.iloc[i,description_col] = 'Industrial'"
   ]
  },
  {
   "cell_type": "code",
   "execution_count": 18,
   "id": "752b7eb1",
   "metadata": {},
   "outputs": [],
   "source": [
    "other_rows = refrigerators[refrigerators['description'] == 'Other']\n",
    "industrial_rows = refrigerators[refrigerators['description'] == 'Industrial']\n",
    "\n",
    "other_df = other_df.append(other_rows, ignore_index = True)\n",
    "industrial_df = industrial_df.append(industrial_rows, ignore_index = True)\n",
    "\n",
    "refrigerators.drop(other_rows.index, inplace = True)\n",
    "refrigerators.drop(industrial_rows.index, inplace = True)\n",
    "\n",
    "domestic_df = domestic_df.append(refrigerators, ignore_index = True)\n",
    "\n",
    "other_df.drop(['description', 'comment'], axis=1, inplace = True)\n",
    "industrial_df.drop(['description', 'comment'], axis=1, inplace = True)\n",
    "domestic_df.drop(['description', 'comment'], axis=1, inplace = True)"
   ]
  },
  {
   "cell_type": "code",
   "execution_count": 19,
   "id": "2a7a3b51",
   "metadata": {},
   "outputs": [
    {
     "name": "stdout",
     "output_type": "stream",
     "text": [
      "Other Refrigerators Without Building: 42\n",
      "Other Refrigerators With Building: 41\n",
      "\n",
      "Industrial Refrigerators Without Building: 37\n",
      "Industrial Refrigerators With Building: 43\n",
      "\n",
      "Domestic Refrigerators Without Building: 561\n",
      "Domestic Refrigerators With Building: 123\n"
     ]
    }
   ],
   "source": [
    "other_without_building = other_df[pd.isnull(other_df['building_number']) == True]\n",
    "print('Other Refrigerators Without Building:',len(other_without_building))\n",
    "other_with_building = other_df[pd.isnull(other_df['building_number']) == False]\n",
    "print('Other Refrigerators With Building:',len(other_with_building))\n",
    "print()\n",
    "\n",
    "industrial_without_building = industrial_df[pd.isnull(industrial_df['building_number']) == True]\n",
    "print('Industrial Refrigerators Without Building:',len(industrial_without_building))\n",
    "industrial_with_building = industrial_df[pd.isnull(industrial_df['building_number']) == False]\n",
    "print('Industrial Refrigerators With Building:',len(industrial_with_building))\n",
    "print()\n",
    "\n",
    "domestic_without_building = domestic_df[pd.isnull(domestic_df['building_number']) == True]\n",
    "print('Domestic Refrigerators Without Building:',len(domestic_without_building))\n",
    "domestic_with_building = domestic_df[pd.isnull(domestic_df['building_number']) == False]\n",
    "print('Domestic Refrigerators With Building:',len(domestic_with_building))"
   ]
  },
  {
   "cell_type": "code",
   "execution_count": 20,
   "id": "3a5b765d",
   "metadata": {},
   "outputs": [
    {
     "name": "stdout",
     "output_type": "stream",
     "text": [
      "Other Refrigerators Without Department: 0\n",
      "\n",
      "Industrial Refrigerators Without Department: 0\n",
      "\n",
      "Domestic Refrigerators Without Department: 0\n"
     ]
    }
   ],
   "source": [
    "other_without_department = other_df[pd.isnull(other_df['department_name']) == True]\n",
    "print('Other Refrigerators Without Department:',len(other_without_department))\n",
    "print()\n",
    "\n",
    "industrial_without_department = industrial_df[pd.isnull(industrial_df['department_name']) == True]\n",
    "print('Industrial Refrigerators Without Department:',len(industrial_without_department))\n",
    "print()\n",
    "\n",
    "domestic_without_department = domestic_df[pd.isnull(domestic_df['department_name']) == True]\n",
    "print('Domestic Refrigerators Without Department:',len(domestic_without_department))"
   ]
  },
  {
   "cell_type": "code",
   "execution_count": 21,
   "id": "69de89bd",
   "metadata": {},
   "outputs": [
    {
     "name": "stdout",
     "output_type": "stream",
     "text": [
      "Unique Departments in Other df: 14\n",
      "\n",
      "Unique Departments in Industrial df: 17\n",
      "\n",
      "Unique Departments in Domestic df: 54\n",
      "\n"
     ]
    }
   ],
   "source": [
    "print('Unique Departments in Other df:', other_with_building['department_name'].unique().shape[0])\n",
    "print()\n",
    "\n",
    "print('Unique Departments in Industrial df:', industrial_with_building['department_name'].unique().shape[0])\n",
    "print()\n",
    "\n",
    "print('Unique Departments in Domestic df:', domestic_with_building['department_name'].unique().shape[0])\n",
    "print()"
   ]
  },
  {
   "cell_type": "code",
   "execution_count": 22,
   "id": "f46d0adc",
   "metadata": {},
   "outputs": [],
   "source": [
    "other_div_percentage = other_with_building.groupby(['department_name','building_number']).size().reset_index(name='count')\n",
    "other_div_percentage_sum = other_div_percentage.groupby(['department_name']).sum()\n",
    "other_div_percentage_count = other_div_percentage.merge(other_div_percentage_sum, how='left', on='department_name')\n",
    "other_div_percentage_count['percentage'] = other_div_percentage_count['count_x'].divide(other_div_percentage_count['count_y'], axis=0)\n",
    "other_div_percentage.drop(['count'], axis=1, inplace=True)\n",
    "other_div_percentage['percentage'] = other_div_percentage_count['percentage'].values\n",
    "\n",
    "industrial_div_percentage = industrial_with_building.groupby(['department_name','building_number']).size().reset_index(name='count')\n",
    "industrial_div_percentage_sum = industrial_div_percentage.groupby(['department_name']).sum()\n",
    "industrial_div_percentage_count = industrial_div_percentage.merge(industrial_div_percentage_sum, how='left', on='department_name')\n",
    "industrial_div_percentage_count['percentage'] = industrial_div_percentage_count['count_x'].divide(industrial_div_percentage_count['count_y'], axis=0)\n",
    "industrial_div_percentage.drop(['count'], axis=1, inplace=True)\n",
    "industrial_div_percentage['percentage'] = industrial_div_percentage_count['percentage'].values\n",
    "\n",
    "domestic_div_percentage = domestic_with_building.groupby(['department_name','building_number']).size().reset_index(name='count')\n",
    "domestic_div_percentage_sum = domestic_div_percentage.groupby(['department_name']).sum()\n",
    "domestic_div_percentage_count = domestic_div_percentage.merge(domestic_div_percentage_sum, how='left', on='department_name')\n",
    "domestic_div_percentage_count['percentage'] = domestic_div_percentage_count['count_x'].divide(domestic_div_percentage_count['count_y'], axis=0)\n",
    "domestic_div_percentage.drop(['count'], axis=1, inplace=True)\n",
    "domestic_div_percentage['percentage'] = domestic_div_percentage_count['percentage'].values"
   ]
  },
  {
   "cell_type": "code",
   "execution_count": 23,
   "id": "65078b45",
   "metadata": {},
   "outputs": [],
   "source": [
    "for i in range (other_without_building['department_name'].unique().shape[0]):\n",
    "    rows_for_change = other_without_building[other_without_building['department_name'] == other_without_building['department_name'].unique()[i]]\n",
    "    percentage_for_insert = other_div_percentage[other_div_percentage['department_name'] == other_without_building['department_name'].unique()[i]]\n",
    "    num_of_different_buildings = len(percentage_for_insert)\n",
    "    interval1 = 0\n",
    "    interval2 = 0\n",
    "    for j in range (num_of_different_buildings):\n",
    "        interval2 = interval2 + round(rows_for_change.shape[0]*percentage_for_insert.iloc[j,percentage_for_insert.columns.get_loc('percentage')])\n",
    "        if j == (num_of_different_buildings-1):\n",
    "            interval2 = len(rows_for_change)\n",
    "        rows_for_change.iloc[interval1:interval2,rows_for_change.columns.get_loc('building_number')] = percentage_for_insert.iloc[j,percentage_for_insert.columns.get_loc('building_number')]\n",
    "        interval1 = interval1 + round(rows_for_change.shape[0]*percentage_for_insert.iloc[j,percentage_for_insert.columns.get_loc('percentage')])\n",
    "        other_without_building[other_without_building['department_name'] == other_without_building['department_name'].unique()[i]] = rows_for_change\n",
    "        \n",
    "for i in range (industrial_without_building['department_name'].unique().shape[0]):\n",
    "    rows_for_change = industrial_without_building[industrial_without_building['department_name'] == industrial_without_building['department_name'].unique()[i]]\n",
    "    percentage_for_insert = industrial_div_percentage[industrial_div_percentage['department_name'] == industrial_without_building['department_name'].unique()[i]]\n",
    "    num_of_different_buildings = len(percentage_for_insert)\n",
    "    interval1 = 0\n",
    "    interval2 = 0\n",
    "    for j in range (num_of_different_buildings):\n",
    "        interval2 = interval2 + round(rows_for_change.shape[0]*percentage_for_insert.iloc[j,percentage_for_insert.columns.get_loc('percentage')])\n",
    "        if j == (num_of_different_buildings-1):\n",
    "            interval2 = len(rows_for_change)\n",
    "        rows_for_change.iloc[interval1:interval2,rows_for_change.columns.get_loc('building_number')] = percentage_for_insert.iloc[j,percentage_for_insert.columns.get_loc('building_number')]\n",
    "        interval1 = interval1 + round(rows_for_change.shape[0]*percentage_for_insert.iloc[j,percentage_for_insert.columns.get_loc('percentage')])\n",
    "        industrial_without_building[industrial_without_building['department_name'] == industrial_without_building['department_name'].unique()[i]] = rows_for_change\n",
    "    \n",
    "for i in range (domestic_without_building['department_name'].unique().shape[0]):\n",
    "    rows_for_change = domestic_without_building[domestic_without_building['department_name'] == domestic_without_building['department_name'].unique()[i]]\n",
    "    percentage_for_insert = domestic_div_percentage[domestic_div_percentage['department_name'] == domestic_without_building['department_name'].unique()[i]]\n",
    "    num_of_different_buildings = len(percentage_for_insert)\n",
    "    interval1 = 0\n",
    "    interval2 = 0\n",
    "    for j in range (num_of_different_buildings):\n",
    "        interval2 = interval2 + round(rows_for_change.shape[0]*percentage_for_insert.iloc[j,percentage_for_insert.columns.get_loc('percentage')])\n",
    "        if j == (num_of_different_buildings-1):\n",
    "            interval2 = len(rows_for_change)\n",
    "        rows_for_change.iloc[interval1:interval2,rows_for_change.columns.get_loc('building_number')] = percentage_for_insert.iloc[j,percentage_for_insert.columns.get_loc('building_number')]\n",
    "        interval1 = interval1 + round(rows_for_change.shape[0]*percentage_for_insert.iloc[j,percentage_for_insert.columns.get_loc('percentage')])\n",
    "        domestic_without_building[domestic_without_building['department_name'] == domestic_without_building['department_name'].unique()[i]] = rows_for_change"
   ]
  },
  {
   "cell_type": "code",
   "execution_count": 24,
   "id": "09638b27",
   "metadata": {},
   "outputs": [],
   "source": [
    "other_df = pd.concat([other_without_building, other_with_building])\n",
    "other_df.sort_values('building_number', axis=0, ascending=False, inplace=True, ignore_index=True)\n",
    "\n",
    "industrial_df = pd.concat([industrial_without_building, industrial_with_building])\n",
    "industrial_df.sort_values('building_number', axis=0, ascending=False, inplace=True, ignore_index=True)\n",
    "\n",
    "domestic_df = pd.concat([domestic_without_building, domestic_with_building])\n",
    "domestic_df.sort_values('building_number', axis=0, ascending=False, inplace=True, ignore_index=True)"
   ]
  },
  {
   "cell_type": "code",
   "execution_count": 25,
   "id": "1a852a23",
   "metadata": {},
   "outputs": [
    {
     "name": "stdout",
     "output_type": "stream",
     "text": [
      "[6932 6380 6260 6204 5901 5709 5507 5502 5107]\n"
     ]
    }
   ],
   "source": [
    "other_exceptions = other_df[pd.isnull(other_df['building_number']) == True]\n",
    "other_exceptions.sort_values('department_number', axis=0, ascending=False, inplace=True, ignore_index=True)\n",
    "print(other_exceptions['department_number'].unique())"
   ]
  },
  {
   "cell_type": "code",
   "execution_count": 26,
   "id": "0eaec7b2",
   "metadata": {},
   "outputs": [
    {
     "name": "stdout",
     "output_type": "stream",
     "text": [
      "Other Exceptions Before Cleaning: 22\n",
      "Other Exceptions After Cleaning: 0\n"
     ]
    }
   ],
   "source": [
    "print('Other Exceptions Before Cleaning:',len(other_df['department_number'][pd.isnull(other_df['building_number']) == True]))\n",
    "\n",
    "other_df = other_df[other_df['department_number'] != 6932]\n",
    "other_df = other_df[other_df['department_number'] != 6260]\n",
    "other_df = other_df[other_df['department_number'] != 6204]\n",
    "other_df = other_df[other_df['department_number'] != 5901]\n",
    "\n",
    "other_df['building_number'][other_df['department_number'] == 6380] = '39'\n",
    "other_df['building_number'][other_df['department_number'] == 5709] = '41'\n",
    "other_df['building_number'][other_df['department_number'] == 5507] = '55'\n",
    "other_df['building_number'][other_df['department_number'] == 5502] = '63'\n",
    "other_df['building_number'][other_df['department_number'] == 5107] = '58'\n",
    "\n",
    "print('Other Exceptions After Cleaning:',len(other_df['department_number'][pd.isnull(other_df['building_number']) == True]))"
   ]
  },
  {
   "cell_type": "code",
   "execution_count": 27,
   "id": "4210fb3f",
   "metadata": {},
   "outputs": [
    {
     "name": "stdout",
     "output_type": "stream",
     "text": [
      "[6932 6204 5905 5901 5723 5511 5313]\n"
     ]
    }
   ],
   "source": [
    "industrial_exceptions = industrial_df[pd.isnull(industrial_df['building_number']) == True]\n",
    "industrial_exceptions.sort_values('department_number', axis=0, ascending=False, inplace=True, ignore_index=True)\n",
    "print(industrial_exceptions['department_number'].unique())"
   ]
  },
  {
   "cell_type": "code",
   "execution_count": 28,
   "id": "ef48b0aa",
   "metadata": {},
   "outputs": [
    {
     "name": "stdout",
     "output_type": "stream",
     "text": [
      "Industrial Exceptions Before Cleaning: 21\n",
      "Industrial Exceptions After Cleaning: 0\n"
     ]
    }
   ],
   "source": [
    "print('Industrial Exceptions Before Cleaning:',len(industrial_df['department_number'][pd.isnull(industrial_df['building_number']) == True]))\n",
    "\n",
    "industrial_df = industrial_df[industrial_df['department_number'] != 6932]\n",
    "industrial_df = industrial_df[industrial_df['department_number'] != 6204]\n",
    "industrial_df = industrial_df[industrial_df['department_number'] != 5905]\n",
    "industrial_df = industrial_df[industrial_df['department_number'] != 5901]\n",
    "industrial_df = industrial_df[industrial_df['department_number'] != 5723]\n",
    "\n",
    "industrial_df['building_number'][industrial_df['department_number'] == 5511] = '63'\n",
    "industrial_df['building_number'][industrial_df['department_number'] == 5313] = '72'\n",
    "\n",
    "print('Industrial Exceptions After Cleaning:',len(industrial_df['department_number'][pd.isnull(industrial_df['building_number']) == True]))"
   ]
  },
  {
   "cell_type": "code",
   "execution_count": 29,
   "id": "1972a83c",
   "metadata": {},
   "outputs": [
    {
     "name": "stdout",
     "output_type": "stream",
     "text": [
      "[8298 6932 6922 6912 6733 6260 6204 5930 5905 5901 5812 5807 5803 5709 5708 5705 5700 5520 5421 5331 5323 5109 5105 5000 3919 3907]\n"
     ]
    }
   ],
   "source": [
    "domestic_exceptions = domestic_df[pd.isnull(domestic_df['building_number']) == True]\n",
    "domestic_exceptions.sort_values('department_number', axis=0, ascending=False, inplace=True, ignore_index=True)\n",
    "print(domestic_exceptions['department_number'].unique())"
   ]
  },
  {
   "cell_type": "code",
   "execution_count": 30,
   "id": "0e25ab07",
   "metadata": {},
   "outputs": [
    {
     "name": "stdout",
     "output_type": "stream",
     "text": [
      "Domestic Exceptions Before Cleaning: 416\n",
      "Domestic Exceptions After Cleaning: 0\n"
     ]
    }
   ],
   "source": [
    "print('Domestic Exceptions Before Cleaning:',len(domestic_df['department_number'][pd.isnull(domestic_df['building_number']) == True]))\n",
    "\n",
    "domestic_df = domestic_df[domestic_df['department_number'] != 8298]\n",
    "domestic_df = domestic_df[domestic_df['department_number'] != 6932]\n",
    "domestic_df = domestic_df[domestic_df['department_number'] != 6922]\n",
    "domestic_df = domestic_df[domestic_df['department_number'] != 6912]\n",
    "domestic_df = domestic_df[domestic_df['department_number'] != 6260]\n",
    "domestic_df = domestic_df[domestic_df['department_number'] != 6204]\n",
    "domestic_df = domestic_df[domestic_df['department_number'] != 5930]\n",
    "domestic_df = domestic_df[domestic_df['department_number'] != 5905]\n",
    "domestic_df = domestic_df[domestic_df['department_number'] != 5901]\n",
    "domestic_df = domestic_df[domestic_df['department_number'] != 5807]\n",
    "domestic_df = domestic_df[domestic_df['department_number'] != 5421]\n",
    "\n",
    "domestic_df['building_number'][domestic_df['department_number'] == 6733] = '15'\n",
    "domestic_df['building_number'][domestic_df['department_number'] == 5812] = '34'\n",
    "domestic_df['building_number'][domestic_df['department_number'] == 5803] = '71'\n",
    "domestic_df['building_number'][domestic_df['department_number'] == 5709] = '41'\n",
    "domestic_df['building_number'][domestic_df['department_number'] == 5708] = '34'\n",
    "domestic_df['building_number'][domestic_df['department_number'] == 5705] = '93A'\n",
    "domestic_df['building_number'][domestic_df['department_number'] == 5700] = '70'\n",
    "domestic_df['building_number'][domestic_df['department_number'] == 5520] = '58'\n",
    "domestic_df['building_number'][domestic_df['department_number'] == 5331] = '72'\n",
    "domestic_df['building_number'][domestic_df['department_number'] == 5323] = '72'\n",
    "domestic_df['building_number'][domestic_df['department_number'] == 5109] = '51'\n",
    "domestic_df['building_number'][domestic_df['department_number'] == 5105] = '29'\n",
    "domestic_df['building_number'][domestic_df['department_number'] == 5000] = '62'\n",
    "domestic_df['building_number'][domestic_df['department_number'] == 3919] = '34'\n",
    "domestic_df['building_number'][domestic_df['department_number'] == 3907] = '30'\n",
    "\n",
    "print('Domestic Exceptions After Cleaning:',len(domestic_df['department_number'][pd.isnull(domestic_df['building_number']) == True]))"
   ]
  },
  {
   "cell_type": "code",
   "execution_count": 31,
   "id": "c9487836",
   "metadata": {},
   "outputs": [
    {
     "name": "stdout",
     "output_type": "stream",
     "text": [
      "Other Building Numbers: ['M8' 'M6' '96' '95' '71' '63' '62' '59' '51' '43' '42' '41' '40' '39' '29' '55' '58']\n",
      "\n",
      "Industrial Building Numbers: ['M9' 'M7' 'M6' '63' '62' '60' '59' '58' '42' '41' '40' '39' '38' '29' '72']\n",
      "\n",
      "Domestic Building Numbers: ['M9' 'M7' 'M6' '98' '96' '95' '93A' '93' '74' '72' '71' '70' '65' '64' '63' '62' '59' '58' '56' '55' '51' '42' '41' '40' '39' '33' '30' '29' '26' '22' '18' '17' '16'\n",
      " '15' '34']\n",
      "\n"
     ]
    }
   ],
   "source": [
    "print ('Other Building Numbers:', other_df['building_number'].unique())\n",
    "print()\n",
    "other_df = other_df[other_df['building_number'] != 'M8']\n",
    "other_df = other_df[other_df['building_number'] != 'M6']\n",
    "other_df.reset_index(drop=True, inplace=True)\n",
    "other_df.drop(['price','department_number', 'department_name', 'building_name'], axis=1, inplace=True)\n",
    "\n",
    "print ('Industrial Building Numbers:', industrial_df['building_number'].unique())\n",
    "print()\n",
    "industrial_df = industrial_df[industrial_df['building_number'] != 'M9']\n",
    "industrial_df = industrial_df[industrial_df['building_number'] != 'M7']\n",
    "industrial_df = industrial_df[industrial_df['building_number'] != 'M6']\n",
    "industrial_df.reset_index(drop=True, inplace=True)\n",
    "industrial_df.drop(['price','department_number', 'department_name', 'building_name'], axis=1, inplace=True)\n",
    "\n",
    "print ('Domestic Building Numbers:', domestic_df['building_number'].unique())\n",
    "print()\n",
    "domestic_df = domestic_df[domestic_df['building_number'] != 'M9']\n",
    "domestic_df = domestic_df[domestic_df['building_number'] != 'M7']\n",
    "domestic_df = domestic_df[domestic_df['building_number'] != 'M6']\n",
    "domestic_df.reset_index(drop=True, inplace=True)\n",
    "domestic_df.drop(['price','department_number', 'department_name', 'building_name'], axis=1, inplace=True)"
   ]
  },
  {
   "cell_type": "code",
   "execution_count": 32,
   "id": "0bfc9379",
   "metadata": {},
   "outputs": [],
   "source": [
    "other_df['operating_date'] = pd.to_datetime(other_df['operating_date'])\n",
    "industrial_df['operating_date'] = pd.to_datetime(industrial_df['operating_date'])\n",
    "domestic_df['operating_date'] = pd.to_datetime(domestic_df['operating_date'])"
   ]
  },
  {
   "cell_type": "code",
   "execution_count": 33,
   "id": "f76b2ba2",
   "metadata": {},
   "outputs": [],
   "source": [
    "months=12\n",
    "for i in range(1, months+1):\n",
    "\n",
    "    string1 = '2019-'\n",
    "    if i != 12:\n",
    "        string2 = str(i+1)\n",
    "        final_date = string1+string2\n",
    "    else:        \n",
    "        string2 = str(i)\n",
    "        string3 = '-31'\n",
    "        final_date = string1+string2+string3\n",
    "    final_date = pd.to_datetime(final_date)\n",
    "\n",
    "    other_final = other_df[~(other_df['operating_date'] >= final_date)]\n",
    "    other_final = other_final.drop(['operating_date'], axis = 1, inplace=False)\n",
    "\n",
    "    industrial_final = industrial_df[~(industrial_df['operating_date'] >= final_date)]\n",
    "    industrial_final = industrial_final.drop(['operating_date'], axis = 1, inplace=False)\n",
    "\n",
    "    domestic_final = domestic_df[~(domestic_df['operating_date'] >= final_date)]\n",
    "    domestic_final = domestic_final.drop(['operating_date'], axis = 1, inplace=False)\n",
    "\n",
    "    other_final = other_final.groupby(['building_number']).size().reset_index(name='r_other')\n",
    "    industrial_final = industrial_final.groupby(['building_number']).size().reset_index(name='r_industrial')\n",
    "    domestic_final = domestic_final.groupby(['building_number']).size().reset_index(name='r_domestic')\n",
    "\n",
    "    total_refrigerators = pd.merge(domestic_final, industrial_final, how='outer', on='building_number')\n",
    "    total_refrigerators = pd.merge(total_refrigerators, other_final, how='outer', on='building_number')\n",
    "\n",
    "    total_refrigerators = total_refrigerators.fillna(0)\n",
    "    total_refrigerators.sort_values('building_number', axis=0, ascending=True, inplace=True, ignore_index=True)\n",
    "\n",
    "    file_name = 'total_refrigerators_'+string1+str(i)+'.csv'\n",
    "    total_refrigerators.to_csv(file_name, index=False, encoding=\"utf-8\")"
   ]
  }
 ],
 "metadata": {
  "kernelspec": {
   "display_name": "Python 3 (ipykernel)",
   "language": "python",
   "name": "python3"
  },
  "language_info": {
   "codemirror_mode": {
    "name": "ipython",
    "version": 3
   },
   "file_extension": ".py",
   "mimetype": "text/x-python",
   "name": "python",
   "nbconvert_exporter": "python",
   "pygments_lexer": "ipython3",
   "version": "3.8.8"
  }
 },
 "nbformat": 4,
 "nbformat_minor": 5
}
